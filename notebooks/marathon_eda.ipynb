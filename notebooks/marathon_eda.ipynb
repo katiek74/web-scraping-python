{
 "cells": [
  {
   "cell_type": "code",
   "execution_count": 1,
   "metadata": {},
   "outputs": [],
   "source": [
    "import requests\n",
    "from bs4 import BeautifulSoup as BS\n",
    "import pandas as pd\n",
    "import matplotlib.pyplot as plt\n",
    "import seaborn as sns\n",
    "\n",
    "%matplotlib inline  "
   ]
  },
  {
   "cell_type": "code",
   "execution_count": 2,
   "metadata": {},
   "outputs": [],
   "source": [
    "#read in all csv's:\n",
    "\n",
    "full_2016 = pd.read_csv('../data/full_2016.csv')\n",
    "full_2017 = pd.read_csv('../data/full_2017.csv')\n",
    "full_2018 = pd.read_csv('../data/full_2018.csv')\n",
    "full_2019 = pd.read_csv('../data/full_2019.csv')\n",
    "half_2016 = pd.read_csv('../data/half_2016.csv')\n",
    "half_2017 = pd.read_csv('../data/half_2017.csv')\n",
    "half_2018 = pd.read_csv('../data/half_2018.csv')\n",
    "half_2019 = pd.read_csv('../data/half_2019.csv')"
   ]
  },
  {
   "cell_type": "markdown",
   "metadata": {},
   "source": [
    "QUESTIONS TO EXPLORE:\n",
    "NOTE: The course time limit for the Rock ‘n’ Roll Nashville Marathon is 6 hours and the Half Marathon is 4 hours.\n",
    "-number that did not finish each race?\n",
    "-variations in number of participants for each race?\n",
    "-most common finishing time?\n",
    "-number of people that participated in more than one race?\n",
    "-people that did the half and then full (or vice versa)?\n",
    "-2018 half marathon - no zero times?\n",
    "-avg time per year vs overall avg (line 18 of eda workflow)"
   ]
  },
  {
   "cell_type": "code",
   "execution_count": 3,
   "metadata": {},
   "outputs": [],
   "source": [
    "#adding year column to each dataframe:\n",
    "\n",
    "#df['Name']='abc'\n",
    "\n",
    "half_2016['Year']='2016'\n",
    "half_2017['Year']='2017'\n",
    "half_2018['Year']='2018'\n",
    "half_2019['Year']='2019'\n",
    "\n",
    "full_2016['Year']='2016'\n",
    "full_2017['Year']='2017'\n",
    "full_2018['Year']='2018'\n",
    "full_2019['Year']='2019'"
   ]
  },
  {
   "cell_type": "code",
   "execution_count": 4,
   "metadata": {},
   "outputs": [
    {
     "data": {
      "text/html": [
       "<div>\n",
       "<style scoped>\n",
       "    .dataframe tbody tr th:only-of-type {\n",
       "        vertical-align: middle;\n",
       "    }\n",
       "\n",
       "    .dataframe tbody tr th {\n",
       "        vertical-align: top;\n",
       "    }\n",
       "\n",
       "    .dataframe thead th {\n",
       "        text-align: right;\n",
       "    }\n",
       "</style>\n",
       "<table border=\"1\" class=\"dataframe\">\n",
       "  <thead>\n",
       "    <tr style=\"text-align: right;\">\n",
       "      <th></th>\n",
       "      <th>Overall</th>\n",
       "      <th>Bib</th>\n",
       "      <th>Name</th>\n",
       "      <th>Time</th>\n",
       "      <th>Year</th>\n",
       "    </tr>\n",
       "  </thead>\n",
       "  <tbody>\n",
       "    <tr>\n",
       "      <th>0</th>\n",
       "      <td>1</td>\n",
       "      <td>30001</td>\n",
       "      <td>Travis Peruski</td>\n",
       "      <td>01:37:54</td>\n",
       "      <td>2019</td>\n",
       "    </tr>\n",
       "    <tr>\n",
       "      <th>1</th>\n",
       "      <td>2</td>\n",
       "      <td>1</td>\n",
       "      <td>Scott Wietecha</td>\n",
       "      <td>02:34:59</td>\n",
       "      <td>2019</td>\n",
       "    </tr>\n",
       "    <tr>\n",
       "      <th>2</th>\n",
       "      <td>3</td>\n",
       "      <td>4</td>\n",
       "      <td>Jordan Wilson</td>\n",
       "      <td>02:35:24</td>\n",
       "      <td>2019</td>\n",
       "    </tr>\n",
       "  </tbody>\n",
       "</table>\n",
       "</div>"
      ],
      "text/plain": [
       "   Overall    Bib            Name      Time  Year\n",
       "0        1  30001  Travis Peruski  01:37:54  2019\n",
       "1        2      1  Scott Wietecha  02:34:59  2019\n",
       "2        3      4   Jordan Wilson  02:35:24  2019"
      ]
     },
     "execution_count": 4,
     "metadata": {},
     "output_type": "execute_result"
    }
   ],
   "source": [
    "#Checked each to make sure adding year column worked:\n",
    "\n",
    "full_2019.head(3)"
   ]
  },
  {
   "cell_type": "code",
   "execution_count": 5,
   "metadata": {},
   "outputs": [],
   "source": [
    "#change time to datetime format:\n",
    "#Both of these appear to do the same thing:\n",
    "\n",
    "#half_2016.Time = pd.to_datetime(half_2016.Time, format='%H:%M:%S') - \n",
    "#                pd.to_datetime(half_2016.Time, format='%H:%M:%S').dt.normalize()\n",
    "\n",
    "half_2016.Time = pd.to_timedelta(half_2016.Time)\n",
    "half_2017.Time = pd.to_timedelta(half_2017.Time)\n",
    "half_2018.Time = pd.to_timedelta(half_2018.Time)\n",
    "half_2019.Time = pd.to_timedelta(half_2019.Time)\n",
    "\n",
    "full_2016.Time = pd.to_timedelta(full_2016.Time)\n",
    "full_2017.Time = pd.to_timedelta(full_2017.Time)\n",
    "full_2018.Time = pd.to_timedelta(full_2018.Time)\n",
    "full_2019.Time = pd.to_timedelta(full_2019.Time)"
   ]
  },
  {
   "cell_type": "code",
   "execution_count": 6,
   "metadata": {},
   "outputs": [
    {
     "name": "stdout",
     "output_type": "stream",
     "text": [
      "<class 'pandas.core.frame.DataFrame'>\n",
      "RangeIndex: 22429 entries, 0 to 22428\n",
      "Data columns (total 5 columns):\n",
      " #   Column   Non-Null Count  Dtype          \n",
      "---  ------   --------------  -----          \n",
      " 0   Overall  22429 non-null  int64          \n",
      " 1   Bib      22429 non-null  int64          \n",
      " 2   Name     22429 non-null  object         \n",
      " 3   Time     22429 non-null  timedelta64[ns]\n",
      " 4   Year     22429 non-null  object         \n",
      "dtypes: int64(2), object(2), timedelta64[ns](1)\n",
      "memory usage: 876.3+ KB\n"
     ]
    }
   ],
   "source": [
    "half_2016.info()"
   ]
  },
  {
   "cell_type": "code",
   "execution_count": 7,
   "metadata": {},
   "outputs": [
    {
     "data": {
      "text/plain": [
       "00:00:00    4509\n",
       "02:17:14      13\n",
       "02:15:06      12\n",
       "02:18:20      12\n",
       "02:05:51      11\n",
       "            ... \n",
       "02:53:38       1\n",
       "01:37:57       1\n",
       "02:52:18       1\n",
       "02:54:26       1\n",
       "03:30:32       1\n",
       "Name: Time, Length: 6669, dtype: int64"
      ]
     },
     "execution_count": 7,
     "metadata": {},
     "output_type": "execute_result"
    }
   ],
   "source": [
    "half_2016.Time.value_counts()"
   ]
  },
  {
   "cell_type": "code",
   "execution_count": 8,
   "metadata": {},
   "outputs": [
    {
     "data": {
      "text/html": [
       "<div>\n",
       "<style scoped>\n",
       "    .dataframe tbody tr th:only-of-type {\n",
       "        vertical-align: middle;\n",
       "    }\n",
       "\n",
       "    .dataframe tbody tr th {\n",
       "        vertical-align: top;\n",
       "    }\n",
       "\n",
       "    .dataframe thead th {\n",
       "        text-align: right;\n",
       "    }\n",
       "</style>\n",
       "<table border=\"1\" class=\"dataframe\">\n",
       "  <thead>\n",
       "    <tr style=\"text-align: right;\">\n",
       "      <th></th>\n",
       "      <th>Overall</th>\n",
       "      <th>Bib</th>\n",
       "      <th>Time</th>\n",
       "    </tr>\n",
       "  </thead>\n",
       "  <tbody>\n",
       "    <tr>\n",
       "      <th>count</th>\n",
       "      <td>22429.000000</td>\n",
       "      <td>22429.000000</td>\n",
       "      <td>22429</td>\n",
       "    </tr>\n",
       "    <tr>\n",
       "      <th>mean</th>\n",
       "      <td>27362.582416</td>\n",
       "      <td>21316.413705</td>\n",
       "      <td>0 days 02:01:23.650185</td>\n",
       "    </tr>\n",
       "    <tr>\n",
       "      <th>std</th>\n",
       "      <td>36750.643425</td>\n",
       "      <td>11794.480952</td>\n",
       "      <td>0 days 01:07:43.709719</td>\n",
       "    </tr>\n",
       "    <tr>\n",
       "      <th>min</th>\n",
       "      <td>1.000000</td>\n",
       "      <td>2.000000</td>\n",
       "      <td>0 days 00:00:00</td>\n",
       "    </tr>\n",
       "    <tr>\n",
       "      <th>25%</th>\n",
       "      <td>5683.000000</td>\n",
       "      <td>11207.000000</td>\n",
       "      <td>0 days 01:49:23</td>\n",
       "    </tr>\n",
       "    <tr>\n",
       "      <th>50%</th>\n",
       "      <td>11353.000000</td>\n",
       "      <td>21431.000000</td>\n",
       "      <td>0 days 02:17:11</td>\n",
       "    </tr>\n",
       "    <tr>\n",
       "      <th>75%</th>\n",
       "      <td>17034.000000</td>\n",
       "      <td>32097.000000</td>\n",
       "      <td>0 days 02:43:07</td>\n",
       "    </tr>\n",
       "    <tr>\n",
       "      <th>max</th>\n",
       "      <td>99999.000000</td>\n",
       "      <td>40723.000000</td>\n",
       "      <td>0 days 04:54:41</td>\n",
       "    </tr>\n",
       "  </tbody>\n",
       "</table>\n",
       "</div>"
      ],
      "text/plain": [
       "            Overall           Bib                    Time\n",
       "count  22429.000000  22429.000000                   22429\n",
       "mean   27362.582416  21316.413705  0 days 02:01:23.650185\n",
       "std    36750.643425  11794.480952  0 days 01:07:43.709719\n",
       "min        1.000000      2.000000         0 days 00:00:00\n",
       "25%     5683.000000  11207.000000         0 days 01:49:23\n",
       "50%    11353.000000  21431.000000         0 days 02:17:11\n",
       "75%    17034.000000  32097.000000         0 days 02:43:07\n",
       "max    99999.000000  40723.000000         0 days 04:54:41"
      ]
     },
     "execution_count": 8,
     "metadata": {},
     "output_type": "execute_result"
    }
   ],
   "source": [
    "half_2016.describe()"
   ]
  },
  {
   "cell_type": "code",
   "execution_count": 9,
   "metadata": {},
   "outputs": [
    {
     "name": "stdout",
     "output_type": "stream",
     "text": [
      "<class 'pandas.core.frame.DataFrame'>\n",
      "RangeIndex: 22292 entries, 0 to 22291\n",
      "Data columns (total 5 columns):\n",
      " #   Column   Non-Null Count  Dtype          \n",
      "---  ------   --------------  -----          \n",
      " 0   Overall  22292 non-null  int64          \n",
      " 1   Bib      22292 non-null  int64          \n",
      " 2   Name     22292 non-null  object         \n",
      " 3   Time     22292 non-null  timedelta64[ns]\n",
      " 4   Year     22292 non-null  object         \n",
      "dtypes: int64(2), object(2), timedelta64[ns](1)\n",
      "memory usage: 870.9+ KB\n"
     ]
    }
   ],
   "source": [
    "half_2017.info()"
   ]
  },
  {
   "cell_type": "code",
   "execution_count": 10,
   "metadata": {},
   "outputs": [
    {
     "data": {
      "text/plain": [
       "00:00:00    4580\n",
       "02:42:29      13\n",
       "02:17:56      13\n",
       "02:26:38      12\n",
       "02:23:56      11\n",
       "            ... \n",
       "03:28:53       1\n",
       "03:42:55       1\n",
       "04:06:40       1\n",
       "01:39:54       1\n",
       "03:39:37       1\n",
       "Name: Time, Length: 7093, dtype: int64"
      ]
     },
     "execution_count": 10,
     "metadata": {},
     "output_type": "execute_result"
    }
   ],
   "source": [
    "half_2017.Time.value_counts()"
   ]
  },
  {
   "cell_type": "code",
   "execution_count": 11,
   "metadata": {},
   "outputs": [
    {
     "data": {
      "text/html": [
       "<div>\n",
       "<style scoped>\n",
       "    .dataframe tbody tr th:only-of-type {\n",
       "        vertical-align: middle;\n",
       "    }\n",
       "\n",
       "    .dataframe tbody tr th {\n",
       "        vertical-align: top;\n",
       "    }\n",
       "\n",
       "    .dataframe thead th {\n",
       "        text-align: right;\n",
       "    }\n",
       "</style>\n",
       "<table border=\"1\" class=\"dataframe\">\n",
       "  <thead>\n",
       "    <tr style=\"text-align: right;\">\n",
       "      <th></th>\n",
       "      <th>Overall</th>\n",
       "      <th>Bib</th>\n",
       "      <th>Time</th>\n",
       "    </tr>\n",
       "  </thead>\n",
       "  <tbody>\n",
       "    <tr>\n",
       "      <th>count</th>\n",
       "      <td>22292.000000</td>\n",
       "      <td>22292.000000</td>\n",
       "      <td>22292</td>\n",
       "    </tr>\n",
       "    <tr>\n",
       "      <th>mean</th>\n",
       "      <td>27703.379194</td>\n",
       "      <td>21472.545039</td>\n",
       "      <td>0 days 02:10:17.297416</td>\n",
       "    </tr>\n",
       "    <tr>\n",
       "      <th>std</th>\n",
       "      <td>37115.620449</td>\n",
       "      <td>11751.348954</td>\n",
       "      <td>0 days 01:13:28.948268</td>\n",
       "    </tr>\n",
       "    <tr>\n",
       "      <th>min</th>\n",
       "      <td>1.000000</td>\n",
       "      <td>201.000000</td>\n",
       "      <td>0 days 00:00:00</td>\n",
       "    </tr>\n",
       "    <tr>\n",
       "      <th>25%</th>\n",
       "      <td>5633.750000</td>\n",
       "      <td>11258.750000</td>\n",
       "      <td>0 days 01:55:14</td>\n",
       "    </tr>\n",
       "    <tr>\n",
       "      <th>50%</th>\n",
       "      <td>11260.500000</td>\n",
       "      <td>21511.500000</td>\n",
       "      <td>0 days 02:28:41.500000</td>\n",
       "    </tr>\n",
       "    <tr>\n",
       "      <th>75%</th>\n",
       "      <td>16901.250000</td>\n",
       "      <td>32161.250000</td>\n",
       "      <td>0 days 02:57:04</td>\n",
       "    </tr>\n",
       "    <tr>\n",
       "      <th>max</th>\n",
       "      <td>99999.000000</td>\n",
       "      <td>45422.000000</td>\n",
       "      <td>0 days 06:18:24</td>\n",
       "    </tr>\n",
       "  </tbody>\n",
       "</table>\n",
       "</div>"
      ],
      "text/plain": [
       "            Overall           Bib                    Time\n",
       "count  22292.000000  22292.000000                   22292\n",
       "mean   27703.379194  21472.545039  0 days 02:10:17.297416\n",
       "std    37115.620449  11751.348954  0 days 01:13:28.948268\n",
       "min        1.000000    201.000000         0 days 00:00:00\n",
       "25%     5633.750000  11258.750000         0 days 01:55:14\n",
       "50%    11260.500000  21511.500000  0 days 02:28:41.500000\n",
       "75%    16901.250000  32161.250000         0 days 02:57:04\n",
       "max    99999.000000  45422.000000         0 days 06:18:24"
      ]
     },
     "execution_count": 11,
     "metadata": {},
     "output_type": "execute_result"
    }
   ],
   "source": [
    "half_2017.describe()"
   ]
  },
  {
   "cell_type": "code",
   "execution_count": 12,
   "metadata": {},
   "outputs": [
    {
     "name": "stdout",
     "output_type": "stream",
     "text": [
      "<class 'pandas.core.frame.DataFrame'>\n",
      "RangeIndex: 14940 entries, 0 to 14939\n",
      "Data columns (total 5 columns):\n",
      " #   Column   Non-Null Count  Dtype          \n",
      "---  ------   --------------  -----          \n",
      " 0   Overall  14940 non-null  int64          \n",
      " 1   Bib      14940 non-null  int64          \n",
      " 2   Name     14940 non-null  object         \n",
      " 3   Time     14940 non-null  timedelta64[ns]\n",
      " 4   Year     14940 non-null  object         \n",
      "dtypes: int64(2), object(2), timedelta64[ns](1)\n",
      "memory usage: 583.7+ KB\n"
     ]
    }
   ],
   "source": [
    "half_2018.info()"
   ]
  },
  {
   "cell_type": "code",
   "execution_count": 13,
   "metadata": {},
   "outputs": [
    {
     "data": {
      "text/plain": [
       "02:24:09    12\n",
       "02:08:14    11\n",
       "02:13:32    11\n",
       "02:26:47    10\n",
       "02:06:46    10\n",
       "            ..\n",
       "03:03:54     1\n",
       "01:49:29     1\n",
       "03:02:14     1\n",
       "01:48:25     1\n",
       "04:29:19     1\n",
       "Name: Time, Length: 6337, dtype: int64"
      ]
     },
     "execution_count": 13,
     "metadata": {},
     "output_type": "execute_result"
    }
   ],
   "source": [
    "half_2018.Time.value_counts()\n",
    "#Did no one NOT finish in 2018??"
   ]
  },
  {
   "cell_type": "code",
   "execution_count": 14,
   "metadata": {},
   "outputs": [
    {
     "data": {
      "text/html": [
       "<div>\n",
       "<style scoped>\n",
       "    .dataframe tbody tr th:only-of-type {\n",
       "        vertical-align: middle;\n",
       "    }\n",
       "\n",
       "    .dataframe tbody tr th {\n",
       "        vertical-align: top;\n",
       "    }\n",
       "\n",
       "    .dataframe thead th {\n",
       "        text-align: right;\n",
       "    }\n",
       "</style>\n",
       "<table border=\"1\" class=\"dataframe\">\n",
       "  <thead>\n",
       "    <tr style=\"text-align: right;\">\n",
       "      <th></th>\n",
       "      <th>Overall</th>\n",
       "      <th>Bib</th>\n",
       "      <th>Time</th>\n",
       "    </tr>\n",
       "  </thead>\n",
       "  <tbody>\n",
       "    <tr>\n",
       "      <th>count</th>\n",
       "      <td>14940.000000</td>\n",
       "      <td>14940.000000</td>\n",
       "      <td>14940</td>\n",
       "    </tr>\n",
       "    <tr>\n",
       "      <th>mean</th>\n",
       "      <td>7469.300268</td>\n",
       "      <td>11319.216332</td>\n",
       "      <td>0 days 02:31:56.171285</td>\n",
       "    </tr>\n",
       "    <tr>\n",
       "      <th>std</th>\n",
       "      <td>4313.149007</td>\n",
       "      <td>6654.258783</td>\n",
       "      <td>0 days 00:34:29.395408</td>\n",
       "    </tr>\n",
       "    <tr>\n",
       "      <th>min</th>\n",
       "      <td>1.000000</td>\n",
       "      <td>103.000000</td>\n",
       "      <td>0 days 01:09:25</td>\n",
       "    </tr>\n",
       "    <tr>\n",
       "      <th>25%</th>\n",
       "      <td>3732.000000</td>\n",
       "      <td>6192.750000</td>\n",
       "      <td>0 days 02:07:21</td>\n",
       "    </tr>\n",
       "    <tr>\n",
       "      <th>50%</th>\n",
       "      <td>7470.000000</td>\n",
       "      <td>10909.500000</td>\n",
       "      <td>0 days 02:25:36</td>\n",
       "    </tr>\n",
       "    <tr>\n",
       "      <th>75%</th>\n",
       "      <td>11203.000000</td>\n",
       "      <td>15810.250000</td>\n",
       "      <td>0 days 02:51:18</td>\n",
       "    </tr>\n",
       "    <tr>\n",
       "      <th>max</th>\n",
       "      <td>14940.000000</td>\n",
       "      <td>60038.000000</td>\n",
       "      <td>0 days 06:26:37</td>\n",
       "    </tr>\n",
       "  </tbody>\n",
       "</table>\n",
       "</div>"
      ],
      "text/plain": [
       "            Overall           Bib                    Time\n",
       "count  14940.000000  14940.000000                   14940\n",
       "mean    7469.300268  11319.216332  0 days 02:31:56.171285\n",
       "std     4313.149007   6654.258783  0 days 00:34:29.395408\n",
       "min        1.000000    103.000000         0 days 01:09:25\n",
       "25%     3732.000000   6192.750000         0 days 02:07:21\n",
       "50%     7470.000000  10909.500000         0 days 02:25:36\n",
       "75%    11203.000000  15810.250000         0 days 02:51:18\n",
       "max    14940.000000  60038.000000         0 days 06:26:37"
      ]
     },
     "execution_count": 14,
     "metadata": {},
     "output_type": "execute_result"
    }
   ],
   "source": [
    "half_2018.describe()"
   ]
  },
  {
   "cell_type": "code",
   "execution_count": 15,
   "metadata": {},
   "outputs": [
    {
     "data": {
      "text/html": [
       "<div>\n",
       "<style scoped>\n",
       "    .dataframe tbody tr th:only-of-type {\n",
       "        vertical-align: middle;\n",
       "    }\n",
       "\n",
       "    .dataframe tbody tr th {\n",
       "        vertical-align: top;\n",
       "    }\n",
       "\n",
       "    .dataframe thead th {\n",
       "        text-align: right;\n",
       "    }\n",
       "</style>\n",
       "<table border=\"1\" class=\"dataframe\">\n",
       "  <thead>\n",
       "    <tr style=\"text-align: right;\">\n",
       "      <th></th>\n",
       "      <th>Overall</th>\n",
       "      <th>Bib</th>\n",
       "      <th>Name</th>\n",
       "      <th>Time</th>\n",
       "      <th>Year</th>\n",
       "    </tr>\n",
       "  </thead>\n",
       "  <tbody>\n",
       "    <tr>\n",
       "      <th>14935</th>\n",
       "      <td>14935</td>\n",
       "      <td>8337</td>\n",
       "      <td>Kayleah Maddock</td>\n",
       "      <td>06:04:28</td>\n",
       "      <td>2018</td>\n",
       "    </tr>\n",
       "    <tr>\n",
       "      <th>14936</th>\n",
       "      <td>14937</td>\n",
       "      <td>32614</td>\n",
       "      <td>Kim Donaldson</td>\n",
       "      <td>06:05:35</td>\n",
       "      <td>2018</td>\n",
       "    </tr>\n",
       "    <tr>\n",
       "      <th>14937</th>\n",
       "      <td>14938</td>\n",
       "      <td>31720</td>\n",
       "      <td>Pamela Hagens</td>\n",
       "      <td>06:12:15</td>\n",
       "      <td>2018</td>\n",
       "    </tr>\n",
       "    <tr>\n",
       "      <th>14938</th>\n",
       "      <td>14939</td>\n",
       "      <td>33664</td>\n",
       "      <td>Fatima Rego</td>\n",
       "      <td>06:12:24</td>\n",
       "      <td>2018</td>\n",
       "    </tr>\n",
       "    <tr>\n",
       "      <th>14939</th>\n",
       "      <td>14940</td>\n",
       "      <td>33532</td>\n",
       "      <td>Annie Friar</td>\n",
       "      <td>06:26:37</td>\n",
       "      <td>2018</td>\n",
       "    </tr>\n",
       "  </tbody>\n",
       "</table>\n",
       "</div>"
      ],
      "text/plain": [
       "       Overall    Bib             Name     Time  Year\n",
       "14935    14935   8337  Kayleah Maddock 06:04:28  2018\n",
       "14936    14937  32614    Kim Donaldson 06:05:35  2018\n",
       "14937    14938  31720    Pamela Hagens 06:12:15  2018\n",
       "14938    14939  33664      Fatima Rego 06:12:24  2018\n",
       "14939    14940  33532      Annie Friar 06:26:37  2018"
      ]
     },
     "execution_count": 15,
     "metadata": {},
     "output_type": "execute_result"
    }
   ],
   "source": [
    "half_2018.tail()"
   ]
  },
  {
   "cell_type": "code",
   "execution_count": 16,
   "metadata": {},
   "outputs": [
    {
     "name": "stdout",
     "output_type": "stream",
     "text": [
      "<class 'pandas.core.frame.DataFrame'>\n",
      "RangeIndex: 17236 entries, 0 to 17235\n",
      "Data columns (total 5 columns):\n",
      " #   Column   Non-Null Count  Dtype          \n",
      "---  ------   --------------  -----          \n",
      " 0   Overall  17236 non-null  int64          \n",
      " 1   Bib      17236 non-null  int64          \n",
      " 2   Name     17236 non-null  object         \n",
      " 3   Time     17236 non-null  timedelta64[ns]\n",
      " 4   Year     17236 non-null  object         \n",
      "dtypes: int64(2), object(2), timedelta64[ns](1)\n",
      "memory usage: 673.4+ KB\n"
     ]
    }
   ],
   "source": [
    "half_2019.info()"
   ]
  },
  {
   "cell_type": "code",
   "execution_count": 17,
   "metadata": {},
   "outputs": [
    {
     "data": {
      "text/plain": [
       "00:00:00    3530\n",
       "02:49:53      10\n",
       "02:24:27      10\n",
       "02:24:07      10\n",
       "02:22:37      10\n",
       "02:27:45      10\n",
       "01:53:52      10\n",
       "02:25:39      10\n",
       "02:52:30      10\n",
       "02:12:02       9\n",
       "Name: Time, dtype: int64"
      ]
     },
     "execution_count": 17,
     "metadata": {},
     "output_type": "execute_result"
    }
   ],
   "source": [
    "half_2019.Time.value_counts().head(10)"
   ]
  },
  {
   "cell_type": "code",
   "execution_count": 18,
   "metadata": {},
   "outputs": [
    {
     "data": {
      "text/html": [
       "<div>\n",
       "<style scoped>\n",
       "    .dataframe tbody tr th:only-of-type {\n",
       "        vertical-align: middle;\n",
       "    }\n",
       "\n",
       "    .dataframe tbody tr th {\n",
       "        vertical-align: top;\n",
       "    }\n",
       "\n",
       "    .dataframe thead th {\n",
       "        text-align: right;\n",
       "    }\n",
       "</style>\n",
       "<table border=\"1\" class=\"dataframe\">\n",
       "  <thead>\n",
       "    <tr style=\"text-align: right;\">\n",
       "      <th></th>\n",
       "      <th>Overall</th>\n",
       "      <th>Bib</th>\n",
       "      <th>Time</th>\n",
       "    </tr>\n",
       "  </thead>\n",
       "  <tbody>\n",
       "    <tr>\n",
       "      <th>count</th>\n",
       "      <td>17236.000000</td>\n",
       "      <td>17236.000000</td>\n",
       "      <td>17236</td>\n",
       "    </tr>\n",
       "    <tr>\n",
       "      <th>mean</th>\n",
       "      <td>25930.060861</td>\n",
       "      <td>10026.398990</td>\n",
       "      <td>0 days 02:00:58.442562</td>\n",
       "    </tr>\n",
       "    <tr>\n",
       "      <th>std</th>\n",
       "      <td>37755.950820</td>\n",
       "      <td>5992.240419</td>\n",
       "      <td>0 days 01:08:39.412259</td>\n",
       "    </tr>\n",
       "    <tr>\n",
       "      <th>min</th>\n",
       "      <td>1.000000</td>\n",
       "      <td>31.000000</td>\n",
       "      <td>0 days 00:00:00</td>\n",
       "    </tr>\n",
       "    <tr>\n",
       "      <th>25%</th>\n",
       "      <td>4309.750000</td>\n",
       "      <td>5314.750000</td>\n",
       "      <td>0 days 01:47:24</td>\n",
       "    </tr>\n",
       "    <tr>\n",
       "      <th>50%</th>\n",
       "      <td>8618.500000</td>\n",
       "      <td>9669.500000</td>\n",
       "      <td>0 days 02:16:24</td>\n",
       "    </tr>\n",
       "    <tr>\n",
       "      <th>75%</th>\n",
       "      <td>12927.250000</td>\n",
       "      <td>14053.250000</td>\n",
       "      <td>0 days 02:43:37.250000</td>\n",
       "    </tr>\n",
       "    <tr>\n",
       "      <th>max</th>\n",
       "      <td>99999.000000</td>\n",
       "      <td>50470.000000</td>\n",
       "      <td>0 days 05:52:56</td>\n",
       "    </tr>\n",
       "  </tbody>\n",
       "</table>\n",
       "</div>"
      ],
      "text/plain": [
       "            Overall           Bib                    Time\n",
       "count  17236.000000  17236.000000                   17236\n",
       "mean   25930.060861  10026.398990  0 days 02:00:58.442562\n",
       "std    37755.950820   5992.240419  0 days 01:08:39.412259\n",
       "min        1.000000     31.000000         0 days 00:00:00\n",
       "25%     4309.750000   5314.750000         0 days 01:47:24\n",
       "50%     8618.500000   9669.500000         0 days 02:16:24\n",
       "75%    12927.250000  14053.250000  0 days 02:43:37.250000\n",
       "max    99999.000000  50470.000000         0 days 05:52:56"
      ]
     },
     "execution_count": 18,
     "metadata": {},
     "output_type": "execute_result"
    }
   ],
   "source": [
    "half_2019.describe()"
   ]
  },
  {
   "cell_type": "code",
   "execution_count": 19,
   "metadata": {},
   "outputs": [
    {
     "name": "stdout",
     "output_type": "stream",
     "text": [
      "<class 'pandas.core.frame.DataFrame'>\n",
      "RangeIndex: 3842 entries, 0 to 3841\n",
      "Data columns (total 5 columns):\n",
      " #   Column   Non-Null Count  Dtype          \n",
      "---  ------   --------------  -----          \n",
      " 0   Overall  3842 non-null   int64          \n",
      " 1   Bib      3842 non-null   int64          \n",
      " 2   Name     3842 non-null   object         \n",
      " 3   Time     3842 non-null   timedelta64[ns]\n",
      " 4   Year     3842 non-null   object         \n",
      "dtypes: int64(2), object(2), timedelta64[ns](1)\n",
      "memory usage: 150.2+ KB\n"
     ]
    }
   ],
   "source": [
    "full_2016.info()"
   ]
  },
  {
   "cell_type": "code",
   "execution_count": 20,
   "metadata": {},
   "outputs": [
    {
     "data": {
      "text/plain": [
       "00:00:00    864\n",
       "04:53:54      5\n",
       "05:02:13      4\n",
       "03:58:51      4\n",
       "04:54:16      4\n",
       "           ... \n",
       "03:48:14      1\n",
       "05:01:49      1\n",
       "03:48:46      1\n",
       "03:49:02      1\n",
       "04:50:16      1\n",
       "Name: Time, Length: 2492, dtype: int64"
      ]
     },
     "execution_count": 20,
     "metadata": {},
     "output_type": "execute_result"
    }
   ],
   "source": [
    "full_2016.Time.value_counts()"
   ]
  },
  {
   "cell_type": "code",
   "execution_count": 21,
   "metadata": {},
   "outputs": [
    {
     "data": {
      "text/html": [
       "<div>\n",
       "<style scoped>\n",
       "    .dataframe tbody tr th:only-of-type {\n",
       "        vertical-align: middle;\n",
       "    }\n",
       "\n",
       "    .dataframe tbody tr th {\n",
       "        vertical-align: top;\n",
       "    }\n",
       "\n",
       "    .dataframe thead th {\n",
       "        text-align: right;\n",
       "    }\n",
       "</style>\n",
       "<table border=\"1\" class=\"dataframe\">\n",
       "  <thead>\n",
       "    <tr style=\"text-align: right;\">\n",
       "      <th></th>\n",
       "      <th>Overall</th>\n",
       "      <th>Bib</th>\n",
       "      <th>Time</th>\n",
       "    </tr>\n",
       "  </thead>\n",
       "  <tbody>\n",
       "    <tr>\n",
       "      <th>count</th>\n",
       "      <td>3842.000000</td>\n",
       "      <td>3842.000000</td>\n",
       "      <td>3842</td>\n",
       "    </tr>\n",
       "    <tr>\n",
       "      <th>mean</th>\n",
       "      <td>24301.906559</td>\n",
       "      <td>15431.385216</td>\n",
       "      <td>0 days 03:43:09.756637</td>\n",
       "    </tr>\n",
       "    <tr>\n",
       "      <th>std</th>\n",
       "      <td>41576.036228</td>\n",
       "      <td>8600.621622</td>\n",
       "      <td>0 days 02:07:35.096420</td>\n",
       "    </tr>\n",
       "    <tr>\n",
       "      <th>min</th>\n",
       "      <td>1.000000</td>\n",
       "      <td>1.000000</td>\n",
       "      <td>0 days 00:00:00</td>\n",
       "    </tr>\n",
       "    <tr>\n",
       "      <th>25%</th>\n",
       "      <td>963.250000</td>\n",
       "      <td>7298.250000</td>\n",
       "      <td>0 days 03:25:47.250000</td>\n",
       "    </tr>\n",
       "    <tr>\n",
       "      <th>50%</th>\n",
       "      <td>1925.500000</td>\n",
       "      <td>16104.500000</td>\n",
       "      <td>0 days 04:26:49</td>\n",
       "    </tr>\n",
       "    <tr>\n",
       "      <th>75%</th>\n",
       "      <td>2889.750000</td>\n",
       "      <td>24009.750000</td>\n",
       "      <td>0 days 05:10:26.750000</td>\n",
       "    </tr>\n",
       "    <tr>\n",
       "      <th>max</th>\n",
       "      <td>99999.000000</td>\n",
       "      <td>45340.000000</td>\n",
       "      <td>0 days 07:00:00</td>\n",
       "    </tr>\n",
       "  </tbody>\n",
       "</table>\n",
       "</div>"
      ],
      "text/plain": [
       "            Overall           Bib                    Time\n",
       "count   3842.000000   3842.000000                    3842\n",
       "mean   24301.906559  15431.385216  0 days 03:43:09.756637\n",
       "std    41576.036228   8600.621622  0 days 02:07:35.096420\n",
       "min        1.000000      1.000000         0 days 00:00:00\n",
       "25%      963.250000   7298.250000  0 days 03:25:47.250000\n",
       "50%     1925.500000  16104.500000         0 days 04:26:49\n",
       "75%     2889.750000  24009.750000  0 days 05:10:26.750000\n",
       "max    99999.000000  45340.000000         0 days 07:00:00"
      ]
     },
     "execution_count": 21,
     "metadata": {},
     "output_type": "execute_result"
    }
   ],
   "source": [
    "full_2016.describe()"
   ]
  },
  {
   "cell_type": "code",
   "execution_count": 22,
   "metadata": {},
   "outputs": [
    {
     "name": "stdout",
     "output_type": "stream",
     "text": [
      "<class 'pandas.core.frame.DataFrame'>\n",
      "RangeIndex: 3651 entries, 0 to 3650\n",
      "Data columns (total 5 columns):\n",
      " #   Column   Non-Null Count  Dtype          \n",
      "---  ------   --------------  -----          \n",
      " 0   Overall  3651 non-null   int64          \n",
      " 1   Bib      3651 non-null   int64          \n",
      " 2   Name     3651 non-null   object         \n",
      " 3   Time     3651 non-null   timedelta64[ns]\n",
      " 4   Year     3651 non-null   object         \n",
      "dtypes: int64(2), object(2), timedelta64[ns](1)\n",
      "memory usage: 142.7+ KB\n"
     ]
    }
   ],
   "source": [
    "full_2017.info()"
   ]
  },
  {
   "cell_type": "code",
   "execution_count": 23,
   "metadata": {},
   "outputs": [
    {
     "data": {
      "text/plain": [
       "00:00:00    1056\n",
       "05:10:10       5\n",
       "05:13:01       5\n",
       "04:47:18       4\n",
       "05:28:57       4\n",
       "            ... \n",
       "05:10:21       1\n",
       "05:10:37       1\n",
       "05:10:45       1\n",
       "03:57:34       1\n",
       "04:53:16       1\n",
       "Name: Time, Length: 2170, dtype: int64"
      ]
     },
     "execution_count": 23,
     "metadata": {},
     "output_type": "execute_result"
    }
   ],
   "source": [
    "full_2017.Time.value_counts()"
   ]
  },
  {
   "cell_type": "code",
   "execution_count": 24,
   "metadata": {},
   "outputs": [
    {
     "data": {
      "text/html": [
       "<div>\n",
       "<style scoped>\n",
       "    .dataframe tbody tr th:only-of-type {\n",
       "        vertical-align: middle;\n",
       "    }\n",
       "\n",
       "    .dataframe tbody tr th {\n",
       "        vertical-align: top;\n",
       "    }\n",
       "\n",
       "    .dataframe thead th {\n",
       "        text-align: right;\n",
       "    }\n",
       "</style>\n",
       "<table border=\"1\" class=\"dataframe\">\n",
       "  <thead>\n",
       "    <tr style=\"text-align: right;\">\n",
       "      <th></th>\n",
       "      <th>Overall</th>\n",
       "      <th>Bib</th>\n",
       "      <th>Time</th>\n",
       "    </tr>\n",
       "  </thead>\n",
       "  <tbody>\n",
       "    <tr>\n",
       "      <th>count</th>\n",
       "      <td>3651.000000</td>\n",
       "      <td>3651.000000</td>\n",
       "      <td>3651</td>\n",
       "    </tr>\n",
       "    <tr>\n",
       "      <th>mean</th>\n",
       "      <td>33289.681183</td>\n",
       "      <td>14918.875103</td>\n",
       "      <td>0 days 03:28:49.074774</td>\n",
       "    </tr>\n",
       "    <tr>\n",
       "      <th>std</th>\n",
       "      <td>46253.370294</td>\n",
       "      <td>8697.259055</td>\n",
       "      <td>0 days 02:17:29.405818</td>\n",
       "    </tr>\n",
       "    <tr>\n",
       "      <th>min</th>\n",
       "      <td>1.000000</td>\n",
       "      <td>1.000000</td>\n",
       "      <td>0 days 00:00:00</td>\n",
       "    </tr>\n",
       "    <tr>\n",
       "      <th>25%</th>\n",
       "      <td>913.500000</td>\n",
       "      <td>7139.500000</td>\n",
       "      <td>0 days 00:00:00</td>\n",
       "    </tr>\n",
       "    <tr>\n",
       "      <th>50%</th>\n",
       "      <td>1826.000000</td>\n",
       "      <td>15104.000000</td>\n",
       "      <td>0 days 04:37:11</td>\n",
       "    </tr>\n",
       "    <tr>\n",
       "      <th>75%</th>\n",
       "      <td>99999.000000</td>\n",
       "      <td>23041.500000</td>\n",
       "      <td>0 days 05:12:08</td>\n",
       "    </tr>\n",
       "    <tr>\n",
       "      <th>max</th>\n",
       "      <td>99999.000000</td>\n",
       "      <td>111126.000000</td>\n",
       "      <td>0 days 06:38:19</td>\n",
       "    </tr>\n",
       "  </tbody>\n",
       "</table>\n",
       "</div>"
      ],
      "text/plain": [
       "            Overall            Bib                    Time\n",
       "count   3651.000000    3651.000000                    3651\n",
       "mean   33289.681183   14918.875103  0 days 03:28:49.074774\n",
       "std    46253.370294    8697.259055  0 days 02:17:29.405818\n",
       "min        1.000000       1.000000         0 days 00:00:00\n",
       "25%      913.500000    7139.500000         0 days 00:00:00\n",
       "50%     1826.000000   15104.000000         0 days 04:37:11\n",
       "75%    99999.000000   23041.500000         0 days 05:12:08\n",
       "max    99999.000000  111126.000000         0 days 06:38:19"
      ]
     },
     "execution_count": 24,
     "metadata": {},
     "output_type": "execute_result"
    }
   ],
   "source": [
    "full_2017.describe()"
   ]
  },
  {
   "cell_type": "code",
   "execution_count": 25,
   "metadata": {},
   "outputs": [
    {
     "name": "stdout",
     "output_type": "stream",
     "text": [
      "<class 'pandas.core.frame.DataFrame'>\n",
      "RangeIndex: 2115 entries, 0 to 2114\n",
      "Data columns (total 5 columns):\n",
      " #   Column   Non-Null Count  Dtype          \n",
      "---  ------   --------------  -----          \n",
      " 0   Overall  2115 non-null   int64          \n",
      " 1   Bib      2115 non-null   int64          \n",
      " 2   Name     2115 non-null   object         \n",
      " 3   Time     2115 non-null   timedelta64[ns]\n",
      " 4   Year     2115 non-null   object         \n",
      "dtypes: int64(2), object(2), timedelta64[ns](1)\n",
      "memory usage: 82.7+ KB\n"
     ]
    }
   ],
   "source": [
    "full_2018.info()"
   ]
  },
  {
   "cell_type": "code",
   "execution_count": 26,
   "metadata": {},
   "outputs": [
    {
     "data": {
      "text/plain": [
       "00:00:00    8\n",
       "04:30:58    5\n",
       "05:21:48    4\n",
       "05:51:14    4\n",
       "04:24:58    4\n",
       "           ..\n",
       "03:43:02    1\n",
       "04:56:45    1\n",
       "04:57:17    1\n",
       "04:57:41    1\n",
       "04:48:56    1\n",
       "Name: Time, Length: 1816, dtype: int64"
      ]
     },
     "execution_count": 26,
     "metadata": {},
     "output_type": "execute_result"
    }
   ],
   "source": [
    "full_2018.Time.value_counts()"
   ]
  },
  {
   "cell_type": "code",
   "execution_count": 27,
   "metadata": {},
   "outputs": [
    {
     "data": {
      "text/html": [
       "<div>\n",
       "<style scoped>\n",
       "    .dataframe tbody tr th:only-of-type {\n",
       "        vertical-align: middle;\n",
       "    }\n",
       "\n",
       "    .dataframe tbody tr th {\n",
       "        vertical-align: top;\n",
       "    }\n",
       "\n",
       "    .dataframe thead th {\n",
       "        text-align: right;\n",
       "    }\n",
       "</style>\n",
       "<table border=\"1\" class=\"dataframe\">\n",
       "  <thead>\n",
       "    <tr style=\"text-align: right;\">\n",
       "      <th></th>\n",
       "      <th>Overall</th>\n",
       "      <th>Bib</th>\n",
       "      <th>Time</th>\n",
       "    </tr>\n",
       "  </thead>\n",
       "  <tbody>\n",
       "    <tr>\n",
       "      <th>count</th>\n",
       "      <td>2115.000000</td>\n",
       "      <td>2115.000000</td>\n",
       "      <td>2115</td>\n",
       "    </tr>\n",
       "    <tr>\n",
       "      <th>mean</th>\n",
       "      <td>1428.099291</td>\n",
       "      <td>31516.055792</td>\n",
       "      <td>0 days 04:47:41.253900</td>\n",
       "    </tr>\n",
       "    <tr>\n",
       "      <th>std</th>\n",
       "      <td>6105.518608</td>\n",
       "      <td>3209.627967</td>\n",
       "      <td>0 days 00:50:43.372450</td>\n",
       "    </tr>\n",
       "    <tr>\n",
       "      <th>min</th>\n",
       "      <td>1.000000</td>\n",
       "      <td>1.000000</td>\n",
       "      <td>0 days 00:00:00</td>\n",
       "    </tr>\n",
       "    <tr>\n",
       "      <th>25%</th>\n",
       "      <td>529.500000</td>\n",
       "      <td>30847.000000</td>\n",
       "      <td>0 days 04:12:41.500000</td>\n",
       "    </tr>\n",
       "    <tr>\n",
       "      <th>50%</th>\n",
       "      <td>1058.000000</td>\n",
       "      <td>31659.000000</td>\n",
       "      <td>0 days 04:48:18</td>\n",
       "    </tr>\n",
       "    <tr>\n",
       "      <th>75%</th>\n",
       "      <td>1586.500000</td>\n",
       "      <td>32663.000000</td>\n",
       "      <td>0 days 05:23:53</td>\n",
       "    </tr>\n",
       "    <tr>\n",
       "      <th>max</th>\n",
       "      <td>99999.000000</td>\n",
       "      <td>60042.000000</td>\n",
       "      <td>0 days 06:54:09</td>\n",
       "    </tr>\n",
       "  </tbody>\n",
       "</table>\n",
       "</div>"
      ],
      "text/plain": [
       "            Overall           Bib                    Time\n",
       "count   2115.000000   2115.000000                    2115\n",
       "mean    1428.099291  31516.055792  0 days 04:47:41.253900\n",
       "std     6105.518608   3209.627967  0 days 00:50:43.372450\n",
       "min        1.000000      1.000000         0 days 00:00:00\n",
       "25%      529.500000  30847.000000  0 days 04:12:41.500000\n",
       "50%     1058.000000  31659.000000         0 days 04:48:18\n",
       "75%     1586.500000  32663.000000         0 days 05:23:53\n",
       "max    99999.000000  60042.000000         0 days 06:54:09"
      ]
     },
     "execution_count": 27,
     "metadata": {},
     "output_type": "execute_result"
    }
   ],
   "source": [
    "full_2018.describe()"
   ]
  },
  {
   "cell_type": "code",
   "execution_count": 28,
   "metadata": {},
   "outputs": [
    {
     "data": {
      "text/html": [
       "<div>\n",
       "<style scoped>\n",
       "    .dataframe tbody tr th:only-of-type {\n",
       "        vertical-align: middle;\n",
       "    }\n",
       "\n",
       "    .dataframe tbody tr th {\n",
       "        vertical-align: top;\n",
       "    }\n",
       "\n",
       "    .dataframe thead th {\n",
       "        text-align: right;\n",
       "    }\n",
       "</style>\n",
       "<table border=\"1\" class=\"dataframe\">\n",
       "  <thead>\n",
       "    <tr style=\"text-align: right;\">\n",
       "      <th></th>\n",
       "      <th>Overall</th>\n",
       "      <th>Bib</th>\n",
       "      <th>Name</th>\n",
       "      <th>Time</th>\n",
       "      <th>Year</th>\n",
       "    </tr>\n",
       "  </thead>\n",
       "  <tbody>\n",
       "    <tr>\n",
       "      <th>2105</th>\n",
       "      <td>2106</td>\n",
       "      <td>33359</td>\n",
       "      <td>Theresa Khayyam</td>\n",
       "      <td>06:51:56</td>\n",
       "      <td>2018</td>\n",
       "    </tr>\n",
       "    <tr>\n",
       "      <th>2106</th>\n",
       "      <td>2107</td>\n",
       "      <td>30018</td>\n",
       "      <td>Harold Martin</td>\n",
       "      <td>06:54:09</td>\n",
       "      <td>2018</td>\n",
       "    </tr>\n",
       "    <tr>\n",
       "      <th>2107</th>\n",
       "      <td>99999</td>\n",
       "      <td>33530</td>\n",
       "      <td>Brandon Wynsma</td>\n",
       "      <td>00:00:00</td>\n",
       "      <td>2018</td>\n",
       "    </tr>\n",
       "    <tr>\n",
       "      <th>2108</th>\n",
       "      <td>99999</td>\n",
       "      <td>32166</td>\n",
       "      <td>Janna Chew</td>\n",
       "      <td>00:00:00</td>\n",
       "      <td>2018</td>\n",
       "    </tr>\n",
       "    <tr>\n",
       "      <th>2109</th>\n",
       "      <td>99999</td>\n",
       "      <td>31683</td>\n",
       "      <td>Aubrey Spaeth</td>\n",
       "      <td>00:00:00</td>\n",
       "      <td>2018</td>\n",
       "    </tr>\n",
       "    <tr>\n",
       "      <th>2110</th>\n",
       "      <td>99999</td>\n",
       "      <td>33654</td>\n",
       "      <td>Jeff Ekkart</td>\n",
       "      <td>00:00:00</td>\n",
       "      <td>2018</td>\n",
       "    </tr>\n",
       "    <tr>\n",
       "      <th>2111</th>\n",
       "      <td>99999</td>\n",
       "      <td>31170</td>\n",
       "      <td>Austin Perkins</td>\n",
       "      <td>00:00:00</td>\n",
       "      <td>2018</td>\n",
       "    </tr>\n",
       "    <tr>\n",
       "      <th>2112</th>\n",
       "      <td>99999</td>\n",
       "      <td>30482</td>\n",
       "      <td>David Ramos</td>\n",
       "      <td>00:00:00</td>\n",
       "      <td>2018</td>\n",
       "    </tr>\n",
       "    <tr>\n",
       "      <th>2113</th>\n",
       "      <td>99999</td>\n",
       "      <td>33461</td>\n",
       "      <td>Emily Eagerton</td>\n",
       "      <td>00:00:00</td>\n",
       "      <td>2018</td>\n",
       "    </tr>\n",
       "    <tr>\n",
       "      <th>2114</th>\n",
       "      <td>99999</td>\n",
       "      <td>31515</td>\n",
       "      <td>Tony Quernemoen</td>\n",
       "      <td>00:00:00</td>\n",
       "      <td>2018</td>\n",
       "    </tr>\n",
       "  </tbody>\n",
       "</table>\n",
       "</div>"
      ],
      "text/plain": [
       "      Overall    Bib             Name     Time  Year\n",
       "2105     2106  33359  Theresa Khayyam 06:51:56  2018\n",
       "2106     2107  30018    Harold Martin 06:54:09  2018\n",
       "2107    99999  33530   Brandon Wynsma 00:00:00  2018\n",
       "2108    99999  32166       Janna Chew 00:00:00  2018\n",
       "2109    99999  31683    Aubrey Spaeth 00:00:00  2018\n",
       "2110    99999  33654      Jeff Ekkart 00:00:00  2018\n",
       "2111    99999  31170   Austin Perkins 00:00:00  2018\n",
       "2112    99999  30482      David Ramos 00:00:00  2018\n",
       "2113    99999  33461   Emily Eagerton 00:00:00  2018\n",
       "2114    99999  31515  Tony Quernemoen 00:00:00  2018"
      ]
     },
     "execution_count": 28,
     "metadata": {},
     "output_type": "execute_result"
    }
   ],
   "source": [
    "full_2018.tail(10)"
   ]
  },
  {
   "cell_type": "code",
   "execution_count": 29,
   "metadata": {},
   "outputs": [
    {
     "name": "stdout",
     "output_type": "stream",
     "text": [
      "<class 'pandas.core.frame.DataFrame'>\n",
      "RangeIndex: 2811 entries, 0 to 2810\n",
      "Data columns (total 5 columns):\n",
      " #   Column   Non-Null Count  Dtype          \n",
      "---  ------   --------------  -----          \n",
      " 0   Overall  2811 non-null   int64          \n",
      " 1   Bib      2811 non-null   int64          \n",
      " 2   Name     2811 non-null   object         \n",
      " 3   Time     2811 non-null   timedelta64[ns]\n",
      " 4   Year     2811 non-null   object         \n",
      "dtypes: int64(2), object(2), timedelta64[ns](1)\n",
      "memory usage: 109.9+ KB\n"
     ]
    }
   ],
   "source": [
    "full_2019.info()"
   ]
  },
  {
   "cell_type": "code",
   "execution_count": 30,
   "metadata": {},
   "outputs": [
    {
     "data": {
      "text/plain": [
       "00:00:00    786\n",
       "05:08:53      4\n",
       "04:56:44      4\n",
       "04:26:51      4\n",
       "05:14:27      4\n",
       "           ... \n",
       "05:48:40      1\n",
       "05:48:56      1\n",
       "05:25:59      1\n",
       "03:23:02      1\n",
       "04:51:52      1\n",
       "Name: Time, Length: 1787, dtype: int64"
      ]
     },
     "execution_count": 30,
     "metadata": {},
     "output_type": "execute_result"
    }
   ],
   "source": [
    "full_2019.Time.value_counts()"
   ]
  },
  {
   "cell_type": "code",
   "execution_count": 31,
   "metadata": {},
   "outputs": [
    {
     "data": {
      "text/html": [
       "<div>\n",
       "<style scoped>\n",
       "    .dataframe tbody tr th:only-of-type {\n",
       "        vertical-align: middle;\n",
       "    }\n",
       "\n",
       "    .dataframe tbody tr th {\n",
       "        vertical-align: top;\n",
       "    }\n",
       "\n",
       "    .dataframe thead th {\n",
       "        text-align: right;\n",
       "    }\n",
       "</style>\n",
       "<table border=\"1\" class=\"dataframe\">\n",
       "  <thead>\n",
       "    <tr style=\"text-align: right;\">\n",
       "      <th></th>\n",
       "      <th>Overall</th>\n",
       "      <th>Bib</th>\n",
       "      <th>Time</th>\n",
       "    </tr>\n",
       "  </thead>\n",
       "  <tbody>\n",
       "    <tr>\n",
       "      <th>count</th>\n",
       "      <td>2811.000000</td>\n",
       "      <td>2811.000000</td>\n",
       "      <td>2811</td>\n",
       "    </tr>\n",
       "    <tr>\n",
       "      <th>mean</th>\n",
       "      <td>28691.049093</td>\n",
       "      <td>31362.208822</td>\n",
       "      <td>0 days 03:23:12.044468</td>\n",
       "    </tr>\n",
       "    <tr>\n",
       "      <th>std</th>\n",
       "      <td>44436.624468</td>\n",
       "      <td>3029.008741</td>\n",
       "      <td>0 days 02:12:22.159116</td>\n",
       "    </tr>\n",
       "    <tr>\n",
       "      <th>min</th>\n",
       "      <td>1.000000</td>\n",
       "      <td>1.000000</td>\n",
       "      <td>0 days 00:00:00</td>\n",
       "    </tr>\n",
       "    <tr>\n",
       "      <th>25%</th>\n",
       "      <td>703.500000</td>\n",
       "      <td>30783.500000</td>\n",
       "      <td>0 days 00:00:00</td>\n",
       "    </tr>\n",
       "    <tr>\n",
       "      <th>50%</th>\n",
       "      <td>1406.000000</td>\n",
       "      <td>31587.000000</td>\n",
       "      <td>0 days 04:17:09</td>\n",
       "    </tr>\n",
       "    <tr>\n",
       "      <th>75%</th>\n",
       "      <td>99999.000000</td>\n",
       "      <td>32399.000000</td>\n",
       "      <td>0 days 04:59:57</td>\n",
       "    </tr>\n",
       "    <tr>\n",
       "      <th>max</th>\n",
       "      <td>99999.000000</td>\n",
       "      <td>50463.000000</td>\n",
       "      <td>0 days 06:43:55</td>\n",
       "    </tr>\n",
       "  </tbody>\n",
       "</table>\n",
       "</div>"
      ],
      "text/plain": [
       "            Overall           Bib                    Time\n",
       "count   2811.000000   2811.000000                    2811\n",
       "mean   28691.049093  31362.208822  0 days 03:23:12.044468\n",
       "std    44436.624468   3029.008741  0 days 02:12:22.159116\n",
       "min        1.000000      1.000000         0 days 00:00:00\n",
       "25%      703.500000  30783.500000         0 days 00:00:00\n",
       "50%     1406.000000  31587.000000         0 days 04:17:09\n",
       "75%    99999.000000  32399.000000         0 days 04:59:57\n",
       "max    99999.000000  50463.000000         0 days 06:43:55"
      ]
     },
     "execution_count": 31,
     "metadata": {},
     "output_type": "execute_result"
    }
   ],
   "source": [
    "full_2019.describe()"
   ]
  },
  {
   "cell_type": "code",
   "execution_count": 32,
   "metadata": {},
   "outputs": [
    {
     "name": "stdout",
     "output_type": "stream",
     "text": [
      "       Overall   Bib              Name     Time  Year\n",
      "0            1   201    Roosevelt Cook 01:11:15  2016\n",
      "1            2   204       Bill Martin 01:11:50  2016\n",
      "2            3  1623      Cody Hodgins 01:13:43  2016\n",
      "3            4  1222     Andrew Archer 01:15:04  2016\n",
      "4            5  1224      Brian Syring 01:15:30  2016\n",
      "...        ...   ...               ...      ...   ...\n",
      "17231    99999  1014      Ian Bordelon 00:00:00  2019\n",
      "17232    99999  1012      Nick Gehlsen 00:00:00  2019\n",
      "17233    99999  6295  Arsenio Franklin 00:00:00  2019\n",
      "17234    99999  4922         Matt Lang 00:00:00  2019\n",
      "17235    99999  1528        Kyle Eason 00:00:00  2019\n",
      "\n",
      "[76897 rows x 5 columns]\n"
     ]
    },
    {
     "data": {
      "text/html": [
       "<div>\n",
       "<style scoped>\n",
       "    .dataframe tbody tr th:only-of-type {\n",
       "        vertical-align: middle;\n",
       "    }\n",
       "\n",
       "    .dataframe tbody tr th {\n",
       "        vertical-align: top;\n",
       "    }\n",
       "\n",
       "    .dataframe thead th {\n",
       "        text-align: right;\n",
       "    }\n",
       "</style>\n",
       "<table border=\"1\" class=\"dataframe\">\n",
       "  <thead>\n",
       "    <tr style=\"text-align: right;\">\n",
       "      <th></th>\n",
       "      <th>Overall</th>\n",
       "      <th>Bib</th>\n",
       "      <th>Name</th>\n",
       "      <th>Time</th>\n",
       "      <th>Year</th>\n",
       "    </tr>\n",
       "  </thead>\n",
       "  <tbody>\n",
       "    <tr>\n",
       "      <th>0</th>\n",
       "      <td>1</td>\n",
       "      <td>1</td>\n",
       "      <td>Scott Wietecha</td>\n",
       "      <td>02:25:42</td>\n",
       "      <td>2016</td>\n",
       "    </tr>\n",
       "    <tr>\n",
       "      <th>1</th>\n",
       "      <td>2</td>\n",
       "      <td>3</td>\n",
       "      <td>Brian Shelton</td>\n",
       "      <td>02:34:43</td>\n",
       "      <td>2016</td>\n",
       "    </tr>\n",
       "    <tr>\n",
       "      <th>2</th>\n",
       "      <td>3</td>\n",
       "      <td>1047</td>\n",
       "      <td>Christopher Capps</td>\n",
       "      <td>02:38:43</td>\n",
       "      <td>2016</td>\n",
       "    </tr>\n",
       "    <tr>\n",
       "      <th>3</th>\n",
       "      <td>4</td>\n",
       "      <td>1052</td>\n",
       "      <td>Jason Grimes</td>\n",
       "      <td>02:45:06</td>\n",
       "      <td>2016</td>\n",
       "    </tr>\n",
       "    <tr>\n",
       "      <th>4</th>\n",
       "      <td>5</td>\n",
       "      <td>1046</td>\n",
       "      <td>David Adams</td>\n",
       "      <td>02:47:28</td>\n",
       "      <td>2016</td>\n",
       "    </tr>\n",
       "    <tr>\n",
       "      <th>...</th>\n",
       "      <td>...</td>\n",
       "      <td>...</td>\n",
       "      <td>...</td>\n",
       "      <td>...</td>\n",
       "      <td>...</td>\n",
       "    </tr>\n",
       "    <tr>\n",
       "      <th>2806</th>\n",
       "      <td>99999</td>\n",
       "      <td>31741</td>\n",
       "      <td>Erica Cruz</td>\n",
       "      <td>00:00:00</td>\n",
       "      <td>2019</td>\n",
       "    </tr>\n",
       "    <tr>\n",
       "      <th>2807</th>\n",
       "      <td>99999</td>\n",
       "      <td>32960</td>\n",
       "      <td>Christine Zavala</td>\n",
       "      <td>00:00:00</td>\n",
       "      <td>2019</td>\n",
       "    </tr>\n",
       "    <tr>\n",
       "      <th>2808</th>\n",
       "      <td>99999</td>\n",
       "      <td>31659</td>\n",
       "      <td>Yaa Asare</td>\n",
       "      <td>00:00:00</td>\n",
       "      <td>2019</td>\n",
       "    </tr>\n",
       "    <tr>\n",
       "      <th>2809</th>\n",
       "      <td>99999</td>\n",
       "      <td>32497</td>\n",
       "      <td>Brian Miller</td>\n",
       "      <td>00:00:00</td>\n",
       "      <td>2019</td>\n",
       "    </tr>\n",
       "    <tr>\n",
       "      <th>2810</th>\n",
       "      <td>99999</td>\n",
       "      <td>32829</td>\n",
       "      <td>Stephanie Whitaker</td>\n",
       "      <td>00:00:00</td>\n",
       "      <td>2019</td>\n",
       "    </tr>\n",
       "  </tbody>\n",
       "</table>\n",
       "<p>12419 rows × 5 columns</p>\n",
       "</div>"
      ],
      "text/plain": [
       "      Overall    Bib                Name     Time  Year\n",
       "0           1      1      Scott Wietecha 02:25:42  2016\n",
       "1           2      3       Brian Shelton 02:34:43  2016\n",
       "2           3   1047   Christopher Capps 02:38:43  2016\n",
       "3           4   1052        Jason Grimes 02:45:06  2016\n",
       "4           5   1046         David Adams 02:47:28  2016\n",
       "...       ...    ...                 ...      ...   ...\n",
       "2806    99999  31741          Erica Cruz 00:00:00  2019\n",
       "2807    99999  32960    Christine Zavala 00:00:00  2019\n",
       "2808    99999  31659           Yaa Asare 00:00:00  2019\n",
       "2809    99999  32497        Brian Miller 00:00:00  2019\n",
       "2810    99999  32829  Stephanie Whitaker 00:00:00  2019\n",
       "\n",
       "[12419 rows x 5 columns]"
      ]
     },
     "execution_count": 32,
     "metadata": {},
     "output_type": "execute_result"
    }
   ],
   "source": [
    "#Combining all Half and Full marathon dataframes together for further analysis:\n",
    "\n",
    "half_all = pd.concat([half_2016, half_2017, half_2018, half_2019])\n",
    "print(half_all)\n",
    "\n",
    "full_all = pd.concat([full_2016, full_2017, full_2018, full_2019])\n",
    "full_all"
   ]
  },
  {
   "cell_type": "code",
   "execution_count": 33,
   "metadata": {},
   "outputs": [
    {
     "data": {
      "text/html": [
       "<div>\n",
       "<style scoped>\n",
       "    .dataframe tbody tr th:only-of-type {\n",
       "        vertical-align: middle;\n",
       "    }\n",
       "\n",
       "    .dataframe tbody tr th {\n",
       "        vertical-align: top;\n",
       "    }\n",
       "\n",
       "    .dataframe thead th {\n",
       "        text-align: right;\n",
       "    }\n",
       "</style>\n",
       "<table border=\"1\" class=\"dataframe\">\n",
       "  <thead>\n",
       "    <tr style=\"text-align: right;\">\n",
       "      <th></th>\n",
       "      <th>Overall</th>\n",
       "      <th>Bib</th>\n",
       "      <th>Name</th>\n",
       "      <th>Time</th>\n",
       "      <th>Year</th>\n",
       "      <th>first_name</th>\n",
       "      <th>last_name</th>\n",
       "    </tr>\n",
       "  </thead>\n",
       "  <tbody>\n",
       "    <tr>\n",
       "      <th>0</th>\n",
       "      <td>1</td>\n",
       "      <td>201</td>\n",
       "      <td>Roosevelt Cook</td>\n",
       "      <td>01:11:15</td>\n",
       "      <td>2016</td>\n",
       "      <td>Roosevelt</td>\n",
       "      <td>Cook</td>\n",
       "    </tr>\n",
       "    <tr>\n",
       "      <th>1</th>\n",
       "      <td>2</td>\n",
       "      <td>204</td>\n",
       "      <td>Bill Martin</td>\n",
       "      <td>01:11:50</td>\n",
       "      <td>2016</td>\n",
       "      <td>Bill</td>\n",
       "      <td>Martin</td>\n",
       "    </tr>\n",
       "    <tr>\n",
       "      <th>2</th>\n",
       "      <td>3</td>\n",
       "      <td>1623</td>\n",
       "      <td>Cody Hodgins</td>\n",
       "      <td>01:13:43</td>\n",
       "      <td>2016</td>\n",
       "      <td>Cody</td>\n",
       "      <td>Hodgins</td>\n",
       "    </tr>\n",
       "    <tr>\n",
       "      <th>3</th>\n",
       "      <td>4</td>\n",
       "      <td>1222</td>\n",
       "      <td>Andrew Archer</td>\n",
       "      <td>01:15:04</td>\n",
       "      <td>2016</td>\n",
       "      <td>Andrew</td>\n",
       "      <td>Archer</td>\n",
       "    </tr>\n",
       "    <tr>\n",
       "      <th>4</th>\n",
       "      <td>5</td>\n",
       "      <td>1224</td>\n",
       "      <td>Brian Syring</td>\n",
       "      <td>01:15:30</td>\n",
       "      <td>2016</td>\n",
       "      <td>Brian</td>\n",
       "      <td>Syring</td>\n",
       "    </tr>\n",
       "  </tbody>\n",
       "</table>\n",
       "</div>"
      ],
      "text/plain": [
       "   Overall   Bib            Name     Time  Year first_name last_name\n",
       "0        1   201  Roosevelt Cook 01:11:15  2016  Roosevelt      Cook\n",
       "1        2   204     Bill Martin 01:11:50  2016       Bill    Martin\n",
       "2        3  1623    Cody Hodgins 01:13:43  2016       Cody   Hodgins\n",
       "3        4  1222   Andrew Archer 01:15:04  2016     Andrew    Archer\n",
       "4        5  1224    Brian Syring 01:15:30  2016      Brian    Syring"
      ]
     },
     "execution_count": 33,
     "metadata": {},
     "output_type": "execute_result"
    }
   ],
   "source": [
    "#split first and last name into separate columns:\n",
    "\n",
    "half_all_namesplit = half_all[\"Name\"].str.split(\" \", n = 1, expand = True) \n",
    "half_all[\"first_name\"]= half_all_namesplit[0] \n",
    "half_all[\"last_name\"]= half_all_namesplit[1] \n",
    "half_all.head()"
   ]
  },
  {
   "cell_type": "code",
   "execution_count": 34,
   "metadata": {},
   "outputs": [
    {
     "data": {
      "text/html": [
       "<div>\n",
       "<style scoped>\n",
       "    .dataframe tbody tr th:only-of-type {\n",
       "        vertical-align: middle;\n",
       "    }\n",
       "\n",
       "    .dataframe tbody tr th {\n",
       "        vertical-align: top;\n",
       "    }\n",
       "\n",
       "    .dataframe thead th {\n",
       "        text-align: right;\n",
       "    }\n",
       "</style>\n",
       "<table border=\"1\" class=\"dataframe\">\n",
       "  <thead>\n",
       "    <tr style=\"text-align: right;\">\n",
       "      <th></th>\n",
       "      <th>Overall</th>\n",
       "      <th>Bib</th>\n",
       "      <th>Time</th>\n",
       "    </tr>\n",
       "  </thead>\n",
       "  <tbody>\n",
       "    <tr>\n",
       "      <th>count</th>\n",
       "      <td>76897.000000</td>\n",
       "      <td>76897.000000</td>\n",
       "      <td>76897</td>\n",
       "    </tr>\n",
       "    <tr>\n",
       "      <th>mean</th>\n",
       "      <td>23275.302873</td>\n",
       "      <td>16888.772280</td>\n",
       "      <td>0 days 02:09:48.734267</td>\n",
       "    </tr>\n",
       "    <tr>\n",
       "      <th>std</th>\n",
       "      <td>34308.308531</td>\n",
       "      <td>11209.235231</td>\n",
       "      <td>0 days 01:05:45.501355</td>\n",
       "    </tr>\n",
       "    <tr>\n",
       "      <th>min</th>\n",
       "      <td>1.000000</td>\n",
       "      <td>2.000000</td>\n",
       "      <td>0 days 00:00:00</td>\n",
       "    </tr>\n",
       "    <tr>\n",
       "      <th>25%</th>\n",
       "      <td>4834.000000</td>\n",
       "      <td>7722.000000</td>\n",
       "      <td>0 days 01:55:58</td>\n",
       "    </tr>\n",
       "    <tr>\n",
       "      <th>50%</th>\n",
       "      <td>9667.000000</td>\n",
       "      <td>14430.000000</td>\n",
       "      <td>0 days 02:21:50</td>\n",
       "    </tr>\n",
       "    <tr>\n",
       "      <th>75%</th>\n",
       "      <td>14767.000000</td>\n",
       "      <td>25444.000000</td>\n",
       "      <td>0 days 02:49:13</td>\n",
       "    </tr>\n",
       "    <tr>\n",
       "      <th>max</th>\n",
       "      <td>99999.000000</td>\n",
       "      <td>60038.000000</td>\n",
       "      <td>0 days 06:26:37</td>\n",
       "    </tr>\n",
       "  </tbody>\n",
       "</table>\n",
       "</div>"
      ],
      "text/plain": [
       "            Overall           Bib                    Time\n",
       "count  76897.000000  76897.000000                   76897\n",
       "mean   23275.302873  16888.772280  0 days 02:09:48.734267\n",
       "std    34308.308531  11209.235231  0 days 01:05:45.501355\n",
       "min        1.000000      2.000000         0 days 00:00:00\n",
       "25%     4834.000000   7722.000000         0 days 01:55:58\n",
       "50%     9667.000000  14430.000000         0 days 02:21:50\n",
       "75%    14767.000000  25444.000000         0 days 02:49:13\n",
       "max    99999.000000  60038.000000         0 days 06:26:37"
      ]
     },
     "execution_count": 34,
     "metadata": {},
     "output_type": "execute_result"
    }
   ],
   "source": [
    "half_all.describe()"
   ]
  },
  {
   "cell_type": "code",
   "execution_count": 35,
   "metadata": {},
   "outputs": [
    {
     "data": {
      "text/html": [
       "<div>\n",
       "<style scoped>\n",
       "    .dataframe tbody tr th:only-of-type {\n",
       "        vertical-align: middle;\n",
       "    }\n",
       "\n",
       "    .dataframe tbody tr th {\n",
       "        vertical-align: top;\n",
       "    }\n",
       "\n",
       "    .dataframe thead th {\n",
       "        text-align: right;\n",
       "    }\n",
       "</style>\n",
       "<table border=\"1\" class=\"dataframe\">\n",
       "  <thead>\n",
       "    <tr style=\"text-align: right;\">\n",
       "      <th></th>\n",
       "      <th>Overall</th>\n",
       "      <th>Bib</th>\n",
       "      <th>Time</th>\n",
       "    </tr>\n",
       "  </thead>\n",
       "  <tbody>\n",
       "    <tr>\n",
       "      <th>count</th>\n",
       "      <td>12419.000000</td>\n",
       "      <td>12419.000000</td>\n",
       "      <td>12419</td>\n",
       "    </tr>\n",
       "    <tr>\n",
       "      <th>mean</th>\n",
       "      <td>24042.154763</td>\n",
       "      <td>21625.881472</td>\n",
       "      <td>0 days 03:45:24.960624</td>\n",
       "    </tr>\n",
       "    <tr>\n",
       "      <th>std</th>\n",
       "      <td>41639.035811</td>\n",
       "      <td>10590.503460</td>\n",
       "      <td>0 days 02:05:53.515924</td>\n",
       "    </tr>\n",
       "    <tr>\n",
       "      <th>min</th>\n",
       "      <td>1.000000</td>\n",
       "      <td>1.000000</td>\n",
       "      <td>0 days 00:00:00</td>\n",
       "    </tr>\n",
       "    <tr>\n",
       "      <th>25%</th>\n",
       "      <td>776.000000</td>\n",
       "      <td>12057.500000</td>\n",
       "      <td>0 days 03:29:20.500000</td>\n",
       "    </tr>\n",
       "    <tr>\n",
       "      <th>50%</th>\n",
       "      <td>1553.000000</td>\n",
       "      <td>25202.000000</td>\n",
       "      <td>0 days 04:31:56</td>\n",
       "    </tr>\n",
       "    <tr>\n",
       "      <th>75%</th>\n",
       "      <td>2723.500000</td>\n",
       "      <td>31214.500000</td>\n",
       "      <td>0 days 05:12:03</td>\n",
       "    </tr>\n",
       "    <tr>\n",
       "      <th>max</th>\n",
       "      <td>99999.000000</td>\n",
       "      <td>111126.000000</td>\n",
       "      <td>0 days 07:00:00</td>\n",
       "    </tr>\n",
       "  </tbody>\n",
       "</table>\n",
       "</div>"
      ],
      "text/plain": [
       "            Overall            Bib                    Time\n",
       "count  12419.000000   12419.000000                   12419\n",
       "mean   24042.154763   21625.881472  0 days 03:45:24.960624\n",
       "std    41639.035811   10590.503460  0 days 02:05:53.515924\n",
       "min        1.000000       1.000000         0 days 00:00:00\n",
       "25%      776.000000   12057.500000  0 days 03:29:20.500000\n",
       "50%     1553.000000   25202.000000         0 days 04:31:56\n",
       "75%     2723.500000   31214.500000         0 days 05:12:03\n",
       "max    99999.000000  111126.000000         0 days 07:00:00"
      ]
     },
     "execution_count": 35,
     "metadata": {},
     "output_type": "execute_result"
    }
   ],
   "source": [
    "full_all.describe()"
   ]
  },
  {
   "cell_type": "code",
   "execution_count": 36,
   "metadata": {},
   "outputs": [
    {
     "data": {
      "text/plain": [
       "00:00:00    12619\n",
       "02:16:32       27\n",
       "02:18:04       26\n",
       "02:21:21       26\n",
       "02:35:40       26\n",
       "            ...  \n",
       "04:09:08        1\n",
       "04:00:36        1\n",
       "03:53:37        1\n",
       "01:30:38        1\n",
       "01:33:33        1\n",
       "Name: Time, Length: 9693, dtype: int64"
      ]
     },
     "execution_count": 36,
     "metadata": {},
     "output_type": "execute_result"
    }
   ],
   "source": [
    "half_all.Time.value_counts()"
   ]
  },
  {
   "cell_type": "code",
   "execution_count": 37,
   "metadata": {},
   "outputs": [
    {
     "data": {
      "text/plain": [
       "02:16:32    27\n",
       "02:17:56    26\n",
       "02:21:21    26\n",
       "02:35:40    26\n",
       "02:18:04    26\n",
       "            ..\n",
       "01:32:44     1\n",
       "03:37:10     1\n",
       "04:19:03     1\n",
       "04:17:36     1\n",
       "04:09:44     1\n",
       "Name: Time, Length: 9692, dtype: int64"
      ]
     },
     "execution_count": 37,
     "metadata": {},
     "output_type": "execute_result"
    }
   ],
   "source": [
    "half_no_zeros = half_all[half_all.Time != '00:00:00']\n",
    "half_no_zeros.Time.value_counts()"
   ]
  },
  {
   "cell_type": "code",
   "execution_count": 38,
   "metadata": {},
   "outputs": [
    {
     "data": {
      "text/html": [
       "<div>\n",
       "<style scoped>\n",
       "    .dataframe tbody tr th:only-of-type {\n",
       "        vertical-align: middle;\n",
       "    }\n",
       "\n",
       "    .dataframe tbody tr th {\n",
       "        vertical-align: top;\n",
       "    }\n",
       "\n",
       "    .dataframe thead th {\n",
       "        text-align: right;\n",
       "    }\n",
       "</style>\n",
       "<table border=\"1\" class=\"dataframe\">\n",
       "  <thead>\n",
       "    <tr style=\"text-align: right;\">\n",
       "      <th></th>\n",
       "      <th>Overall</th>\n",
       "      <th>Bib</th>\n",
       "      <th>Time</th>\n",
       "    </tr>\n",
       "  </thead>\n",
       "  <tbody>\n",
       "    <tr>\n",
       "      <th>count</th>\n",
       "      <td>64278.000000</td>\n",
       "      <td>64278.000000</td>\n",
       "      <td>64278</td>\n",
       "    </tr>\n",
       "    <tr>\n",
       "      <th>mean</th>\n",
       "      <td>8212.974641</td>\n",
       "      <td>16399.949423</td>\n",
       "      <td>0 days 02:35:17.811677</td>\n",
       "    </tr>\n",
       "    <tr>\n",
       "      <th>std</th>\n",
       "      <td>5060.658312</td>\n",
       "      <td>10984.091883</td>\n",
       "      <td>0 days 00:34:51.709204</td>\n",
       "    </tr>\n",
       "    <tr>\n",
       "      <th>min</th>\n",
       "      <td>1.000000</td>\n",
       "      <td>2.000000</td>\n",
       "      <td>0 days 01:09:25</td>\n",
       "    </tr>\n",
       "    <tr>\n",
       "      <th>25%</th>\n",
       "      <td>4041.000000</td>\n",
       "      <td>7505.000000</td>\n",
       "      <td>0 days 02:10:04</td>\n",
       "    </tr>\n",
       "    <tr>\n",
       "      <th>50%</th>\n",
       "      <td>8080.000000</td>\n",
       "      <td>14151.500000</td>\n",
       "      <td>0 days 02:29:39</td>\n",
       "    </tr>\n",
       "    <tr>\n",
       "      <th>75%</th>\n",
       "      <td>12118.750000</td>\n",
       "      <td>24092.750000</td>\n",
       "      <td>0 days 02:55:19</td>\n",
       "    </tr>\n",
       "    <tr>\n",
       "      <th>max</th>\n",
       "      <td>99999.000000</td>\n",
       "      <td>60038.000000</td>\n",
       "      <td>0 days 06:26:37</td>\n",
       "    </tr>\n",
       "  </tbody>\n",
       "</table>\n",
       "</div>"
      ],
      "text/plain": [
       "            Overall           Bib                    Time\n",
       "count  64278.000000  64278.000000                   64278\n",
       "mean    8212.974641  16399.949423  0 days 02:35:17.811677\n",
       "std     5060.658312  10984.091883  0 days 00:34:51.709204\n",
       "min        1.000000      2.000000         0 days 01:09:25\n",
       "25%     4041.000000   7505.000000         0 days 02:10:04\n",
       "50%     8080.000000  14151.500000         0 days 02:29:39\n",
       "75%    12118.750000  24092.750000         0 days 02:55:19\n",
       "max    99999.000000  60038.000000         0 days 06:26:37"
      ]
     },
     "execution_count": 38,
     "metadata": {},
     "output_type": "execute_result"
    }
   ],
   "source": [
    "half_no_zeros.describe()"
   ]
  },
  {
   "cell_type": "code",
   "execution_count": 39,
   "metadata": {},
   "outputs": [
    {
     "data": {
      "text/plain": [
       "00:00:00    2714\n",
       "05:22:04       7\n",
       "05:14:27       7\n",
       "04:44:07       7\n",
       "04:58:32       7\n",
       "04:47:38       7\n",
       "04:39:13       6\n",
       "05:33:06       6\n",
       "05:10:10       6\n",
       "03:58:51       6\n",
       "Name: Time, dtype: int64"
      ]
     },
     "execution_count": 39,
     "metadata": {},
     "output_type": "execute_result"
    }
   ],
   "source": [
    "full_all.Time.value_counts().head(10)"
   ]
  },
  {
   "cell_type": "code",
   "execution_count": 40,
   "metadata": {},
   "outputs": [
    {
     "data": {
      "text/plain": [
       "04:58:32    7\n",
       "04:47:38    7\n",
       "04:44:07    7\n",
       "05:22:04    7\n",
       "05:14:27    7\n",
       "04:39:13    6\n",
       "04:47:18    6\n",
       "05:04:47    6\n",
       "05:33:06    6\n",
       "04:54:22    6\n",
       "Name: Time, dtype: int64"
      ]
     },
     "execution_count": 40,
     "metadata": {},
     "output_type": "execute_result"
    }
   ],
   "source": [
    "full_no_zeros = full_all[full_all.Time != '00:00:00']\n",
    "full_no_zeros.Time.value_counts().head(10)"
   ]
  },
  {
   "cell_type": "code",
   "execution_count": 41,
   "metadata": {},
   "outputs": [
    {
     "data": {
      "text/html": [
       "<div>\n",
       "<style scoped>\n",
       "    .dataframe tbody tr th:only-of-type {\n",
       "        vertical-align: middle;\n",
       "    }\n",
       "\n",
       "    .dataframe tbody tr th {\n",
       "        vertical-align: top;\n",
       "    }\n",
       "\n",
       "    .dataframe thead th {\n",
       "        text-align: right;\n",
       "    }\n",
       "</style>\n",
       "<table border=\"1\" class=\"dataframe\">\n",
       "  <thead>\n",
       "    <tr style=\"text-align: right;\">\n",
       "      <th></th>\n",
       "      <th>Overall</th>\n",
       "      <th>Bib</th>\n",
       "      <th>Time</th>\n",
       "    </tr>\n",
       "  </thead>\n",
       "  <tbody>\n",
       "    <tr>\n",
       "      <th>count</th>\n",
       "      <td>9705.000000</td>\n",
       "      <td>9705.000000</td>\n",
       "      <td>9705</td>\n",
       "    </tr>\n",
       "    <tr>\n",
       "      <th>mean</th>\n",
       "      <td>2800.848429</td>\n",
       "      <td>21933.816692</td>\n",
       "      <td>0 days 04:48:27.211334</td>\n",
       "    </tr>\n",
       "    <tr>\n",
       "      <th>std</th>\n",
       "      <td>12405.240315</td>\n",
       "      <td>10573.284349</td>\n",
       "      <td>0 days 00:45:46.974559</td>\n",
       "    </tr>\n",
       "    <tr>\n",
       "      <th>min</th>\n",
       "      <td>1.000000</td>\n",
       "      <td>1.000000</td>\n",
       "      <td>0 days 01:26:11</td>\n",
       "    </tr>\n",
       "    <tr>\n",
       "      <th>25%</th>\n",
       "      <td>608.000000</td>\n",
       "      <td>12134.000000</td>\n",
       "      <td>0 days 04:15:30</td>\n",
       "    </tr>\n",
       "    <tr>\n",
       "      <th>50%</th>\n",
       "      <td>1214.000000</td>\n",
       "      <td>26059.000000</td>\n",
       "      <td>0 days 04:49:04</td>\n",
       "    </tr>\n",
       "    <tr>\n",
       "      <th>75%</th>\n",
       "      <td>1821.000000</td>\n",
       "      <td>31295.000000</td>\n",
       "      <td>0 days 05:22:04</td>\n",
       "    </tr>\n",
       "    <tr>\n",
       "      <th>max</th>\n",
       "      <td>99999.000000</td>\n",
       "      <td>60042.000000</td>\n",
       "      <td>0 days 07:00:00</td>\n",
       "    </tr>\n",
       "  </tbody>\n",
       "</table>\n",
       "</div>"
      ],
      "text/plain": [
       "            Overall           Bib                    Time\n",
       "count   9705.000000   9705.000000                    9705\n",
       "mean    2800.848429  21933.816692  0 days 04:48:27.211334\n",
       "std    12405.240315  10573.284349  0 days 00:45:46.974559\n",
       "min        1.000000      1.000000         0 days 01:26:11\n",
       "25%      608.000000  12134.000000         0 days 04:15:30\n",
       "50%     1214.000000  26059.000000         0 days 04:49:04\n",
       "75%     1821.000000  31295.000000         0 days 05:22:04\n",
       "max    99999.000000  60042.000000         0 days 07:00:00"
      ]
     },
     "execution_count": 41,
     "metadata": {},
     "output_type": "execute_result"
    }
   ],
   "source": [
    "full_no_zeros.describe()"
   ]
  },
  {
   "cell_type": "code",
   "execution_count": 42,
   "metadata": {},
   "outputs": [
    {
     "data": {
      "text/plain": [
       "Brian Johnson          14\n",
       "Contact Sportstats     13\n",
       "Jennifer Smith         11\n",
       "Jennifer Johnson       11\n",
       "Sarah Johnson           9\n",
       "                       ..\n",
       "Allison Dunn            2\n",
       "Bill Browning           2\n",
       "Jaime Campbell          2\n",
       "Raymond Baldwin         2\n",
       "Stephanie Holzwarth     2\n",
       "Name: Name, Length: 10397, dtype: int64"
      ]
     },
     "execution_count": 42,
     "metadata": {},
     "output_type": "execute_result"
    }
   ],
   "source": [
    "#Attempting to find people who ran multiple races:\n",
    "multiple_half = half_all.Name.value_counts()[half_all.Name.value_counts()> 1]\n",
    "multiple_half"
   ]
  },
  {
   "cell_type": "code",
   "execution_count": 43,
   "metadata": {},
   "outputs": [
    {
     "data": {
      "text/plain": [
       "Brett Smith           6\n",
       "Richard Brooks        5\n",
       "Debra Shone           5\n",
       "Barbara Evans         5\n",
       "David Cornell         4\n",
       "                     ..\n",
       "Nichole Johnson       2\n",
       "Carlos A Villicana    2\n",
       "William Prins, Jr.    2\n",
       "Daniel Rubin          2\n",
       "Melodee Jamison       2\n",
       "Name: Name, Length: 852, dtype: int64"
      ]
     },
     "execution_count": 43,
     "metadata": {},
     "output_type": "execute_result"
    }
   ],
   "source": [
    "#Attempting to find people who ran multiple races:\n",
    "multiple_full = full_all.Name.value_counts()[full_all.Name.value_counts()> 1]\n",
    "multiple_full"
   ]
  },
  {
   "cell_type": "code",
   "execution_count": 44,
   "metadata": {},
   "outputs": [
    {
     "data": {
      "image/png": "[encoded data removed]",
      "text/plain": [
       "<Figure size 432x288 with 1 Axes>"
      ]
     },
     "metadata": {
      "needs_background": "light"
     },
     "output_type": "display_data"
    }
   ],
   "source": [
    "#a quick plot for total runners each year for half marathon:\n",
    "\n",
    "sns.countplot(x=\"Year\", data = half_all);"
   ]
  },
  {
   "cell_type": "code",
   "execution_count": 45,
   "metadata": {},
   "outputs": [
    {
     "data": {
      "image/png": "[encoded data removed]",
      "text/plain": [
       "<Figure size 432x288 with 1 Axes>"
      ]
     },
     "metadata": {
      "needs_background": "light"
     },
     "output_type": "display_data"
    }
   ],
   "source": [
    "#a quick plot for total runners each year for full marathon:\n",
    "\n",
    "sns.countplot(x=\"Year\", data = full_all);"
   ]
  },
  {
   "cell_type": "code",
   "execution_count": 46,
   "metadata": {},
   "outputs": [
    {
     "name": "stdout",
     "output_type": "stream",
     "text": [
      "<class 'pandas.core.frame.DataFrame'>\n",
      "RangeIndex: 4 entries, 0 to 3\n",
      "Data columns (total 7 columns):\n",
      " #   Column                  Non-Null Count  Dtype \n",
      "---  ------                  --------------  ----- \n",
      " 0   year                    4 non-null      object\n",
      " 1   total_runners_half      4 non-null      int64 \n",
      " 2   runners_no_finish_half  4 non-null      int64 \n",
      " 3   percent_no_finish_half  4 non-null      int64 \n",
      " 4   total_runners_full      4 non-null      int64 \n",
      " 5   runners_no_finish_full  4 non-null      int64 \n",
      " 6   percent_no_finish_full  4 non-null      int64 \n",
      "dtypes: int64(6), object(1)\n",
      "memory usage: 352.0+ bytes\n",
      "None\n"
     ]
    },
    {
     "data": {
      "text/html": [
       "<div>\n",
       "<style scoped>\n",
       "    .dataframe tbody tr th:only-of-type {\n",
       "        vertical-align: middle;\n",
       "    }\n",
       "\n",
       "    .dataframe tbody tr th {\n",
       "        vertical-align: top;\n",
       "    }\n",
       "\n",
       "    .dataframe thead th {\n",
       "        text-align: right;\n",
       "    }\n",
       "</style>\n",
       "<table border=\"1\" class=\"dataframe\">\n",
       "  <thead>\n",
       "    <tr style=\"text-align: right;\">\n",
       "      <th></th>\n",
       "      <th>year</th>\n",
       "      <th>total_runners_half</th>\n",
       "      <th>runners_no_finish_half</th>\n",
       "      <th>percent_no_finish_half</th>\n",
       "      <th>total_runners_full</th>\n",
       "      <th>runners_no_finish_full</th>\n",
       "      <th>percent_no_finish_full</th>\n",
       "    </tr>\n",
       "  </thead>\n",
       "  <tbody>\n",
       "    <tr>\n",
       "      <th>0</th>\n",
       "      <td>2016</td>\n",
       "      <td>22429</td>\n",
       "      <td>4509</td>\n",
       "      <td>20</td>\n",
       "      <td>3842</td>\n",
       "      <td>864</td>\n",
       "      <td>22</td>\n",
       "    </tr>\n",
       "    <tr>\n",
       "      <th>1</th>\n",
       "      <td>2017</td>\n",
       "      <td>22292</td>\n",
       "      <td>4580</td>\n",
       "      <td>21</td>\n",
       "      <td>3651</td>\n",
       "      <td>1056</td>\n",
       "      <td>29</td>\n",
       "    </tr>\n",
       "    <tr>\n",
       "      <th>2</th>\n",
       "      <td>2018</td>\n",
       "      <td>14940</td>\n",
       "      <td>0</td>\n",
       "      <td>0</td>\n",
       "      <td>2115</td>\n",
       "      <td>8</td>\n",
       "      <td>0</td>\n",
       "    </tr>\n",
       "    <tr>\n",
       "      <th>3</th>\n",
       "      <td>2019</td>\n",
       "      <td>17236</td>\n",
       "      <td>3530</td>\n",
       "      <td>20</td>\n",
       "      <td>2811</td>\n",
       "      <td>786</td>\n",
       "      <td>28</td>\n",
       "    </tr>\n",
       "  </tbody>\n",
       "</table>\n",
       "</div>"
      ],
      "text/plain": [
       "   year  total_runners_half  runners_no_finish_half  percent_no_finish_half  \\\n",
       "0  2016               22429                    4509                      20   \n",
       "1  2017               22292                    4580                      21   \n",
       "2  2018               14940                       0                       0   \n",
       "3  2019               17236                    3530                      20   \n",
       "\n",
       "   total_runners_full  runners_no_finish_full  percent_no_finish_full  \n",
       "0                3842                     864                      22  \n",
       "1                3651                    1056                      29  \n",
       "2                2115                       8                       0  \n",
       "3                2811                     786                      28  "
      ]
     },
     "execution_count": 46,
     "metadata": {},
     "output_type": "execute_result"
    }
   ],
   "source": [
    "#create dataframe for total runners and runners that did not finish using numbers gathered from above and quick percent calculation:\n",
    "\n",
    "data = {'year':  ['2016', '2017', '2018', '2019'],\n",
    "        'total_runners_half':[22429, 22292, 14940, 17236],\n",
    "        'runners_no_finish_half':[4509, 4580, 0, 3530],\n",
    "        'percent_no_finish_half': [20, 21, 0, 20],\n",
    "        'total_runners_full':[3842, 3651, 2115, 2811],\n",
    "        'runners_no_finish_full':[864, 1056, 8, 786],\n",
    "        'percent_no_finish_full': [22, 29, 0, 28]\n",
    "        }\n",
    "\n",
    "df = pd.DataFrame (data, columns = ['year','total_runners_half', 'runners_no_finish_half', 'percent_no_finish_half', \n",
    "                                    'total_runners_full', 'runners_no_finish_full', 'percent_no_finish_full'])\n",
    "\n",
    "print(df.info()) \n",
    "df"
   ]
  },
  {
   "cell_type": "code",
   "execution_count": 47,
   "metadata": {},
   "outputs": [
    {
     "data": {
      "image/png": "[encoded data removed]",
      "text/plain": [
       "<Figure size 432x288 with 1 Axes>"
      ]
     },
     "metadata": {
      "needs_background": "light"
     },
     "output_type": "display_data"
    }
   ],
   "source": [
    "df.plot();"
   ]
  },
  {
   "cell_type": "code",
   "execution_count": 48,
   "metadata": {},
   "outputs": [
    {
     "data": {
      "image/png": "[encoded data removed]",
      "text/plain": [
       "<Figure size 432x288 with 1 Axes>"
      ]
     },
     "metadata": {
      "needs_background": "light"
     },
     "output_type": "display_data"
    }
   ],
   "source": [
    "plt.plot( 'year', 'percent_no_finish_half', data=df, marker='', color='blue', linewidth=2, label='half')\n",
    "plt.plot( 'year', 'percent_no_finish_full', data=df, marker='', color='orange', linewidth=2, label='full')\n",
    "plt.title('Percent of Runners That Did Not Finish')\n",
    "plt.legend();"
   ]
  },
  {
   "cell_type": "code",
   "execution_count": 49,
   "metadata": {},
   "outputs": [
    {
     "data": {
      "image/png": "[encoded data removed]",
      "text/plain": [
       "<Figure size 1080x576 with 1 Axes>"
      ]
     },
     "metadata": {
      "needs_background": "light"
     },
     "output_type": "display_data"
    }
   ],
   "source": [
    "fig, ax = plt.subplots(figsize=(15, 8))\n",
    "ax.plot('year', 'total_runners_half', data=df, marker='', color='blue', linewidth=2, label='half total')\n",
    "ax.plot('year', 'runners_no_finish_half', data=df, marker='', color='green', linewidth=2, linestyle='dashed', label='half did not finish')\n",
    "ax.plot('year', 'total_runners_full', data=df, marker='', color='orange', linewidth=2, label='full total')\n",
    "ax.plot('year', 'runners_no_finish_full', data=df, marker='', color='red', linewidth=2, linestyle='dashed', label='full did not finish')\n",
    "\n",
    "ax.set_title('Total Number of Runners and How Many Did Not Finish')\n",
    "ax.legend(bbox_to_anchor=(1.05, 1), loc='upper left', borderaxespad=0.);"
   ]
  },
  {
   "cell_type": "code",
   "execution_count": 50,
   "metadata": {},
   "outputs": [
    {
     "data": {
      "image/png": "[encoded data removed]",
      "text/plain": [
       "<Figure size 1080x576 with 1 Axes>"
      ]
     },
     "metadata": {
      "needs_background": "light"
     },
     "output_type": "display_data"
    }
   ],
   "source": [
    "fig, ax = plt.subplots(figsize=(15, 8))\n",
    "ax.plot('year', 'percent_no_finish_half', data=df, marker='', color='blue', linewidth=2, label='half')\n",
    "ax.plot('year', 'percent_no_finish_full', data=df, marker='', color='orange', linewidth=2, label='full')\n",
    "ax.set_title('Percent of Runners That Did Not Finish')\n",
    "ax.legend(bbox_to_anchor=(1.05, 1), loc='upper left', borderaxespad=0.);"
   ]
  },
  {
   "cell_type": "markdown",
   "metadata": {},
   "source": [
    "Why did everyone finish the half marathon and all but 8 finish the full marathon in 2018?\n",
    "2018 max time for half: 06:26:37 (which is the max time for all 4 races, next highest is 06:18:24)\n",
    "2018 max time for full: 06:54:09 (max time for all 4 races was 07:00:00)\n",
    "Weather was nice - 72 high with 40 dewpoint\n",
    "Not as many runners as other years"
   ]
  },
  {
   "cell_type": "code",
   "execution_count": 51,
   "metadata": {},
   "outputs": [
    {
     "data": {
      "text/html": [
       "<div>\n",
       "<style scoped>\n",
       "    .dataframe tbody tr th:only-of-type {\n",
       "        vertical-align: middle;\n",
       "    }\n",
       "\n",
       "    .dataframe tbody tr th {\n",
       "        vertical-align: top;\n",
       "    }\n",
       "\n",
       "    .dataframe thead th {\n",
       "        text-align: right;\n",
       "    }\n",
       "</style>\n",
       "<table border=\"1\" class=\"dataframe\">\n",
       "  <thead>\n",
       "    <tr style=\"text-align: right;\">\n",
       "      <th></th>\n",
       "      <th>Overall</th>\n",
       "      <th>Bib</th>\n",
       "      <th>Time</th>\n",
       "    </tr>\n",
       "  </thead>\n",
       "  <tbody>\n",
       "    <tr>\n",
       "      <th>count</th>\n",
       "      <td>64278.000000</td>\n",
       "      <td>64278.000000</td>\n",
       "      <td>64278</td>\n",
       "    </tr>\n",
       "    <tr>\n",
       "      <th>mean</th>\n",
       "      <td>8212.974641</td>\n",
       "      <td>16399.949423</td>\n",
       "      <td>0 days 02:35:17.811677</td>\n",
       "    </tr>\n",
       "    <tr>\n",
       "      <th>std</th>\n",
       "      <td>5060.658312</td>\n",
       "      <td>10984.091883</td>\n",
       "      <td>0 days 00:34:51.709204</td>\n",
       "    </tr>\n",
       "    <tr>\n",
       "      <th>min</th>\n",
       "      <td>1.000000</td>\n",
       "      <td>2.000000</td>\n",
       "      <td>0 days 01:09:25</td>\n",
       "    </tr>\n",
       "    <tr>\n",
       "      <th>25%</th>\n",
       "      <td>4041.000000</td>\n",
       "      <td>7505.000000</td>\n",
       "      <td>0 days 02:10:04</td>\n",
       "    </tr>\n",
       "    <tr>\n",
       "      <th>50%</th>\n",
       "      <td>8080.000000</td>\n",
       "      <td>14151.500000</td>\n",
       "      <td>0 days 02:29:39</td>\n",
       "    </tr>\n",
       "    <tr>\n",
       "      <th>75%</th>\n",
       "      <td>12118.750000</td>\n",
       "      <td>24092.750000</td>\n",
       "      <td>0 days 02:55:19</td>\n",
       "    </tr>\n",
       "    <tr>\n",
       "      <th>max</th>\n",
       "      <td>99999.000000</td>\n",
       "      <td>60038.000000</td>\n",
       "      <td>0 days 06:26:37</td>\n",
       "    </tr>\n",
       "  </tbody>\n",
       "</table>\n",
       "</div>"
      ],
      "text/plain": [
       "            Overall           Bib                    Time\n",
       "count  64278.000000  64278.000000                   64278\n",
       "mean    8212.974641  16399.949423  0 days 02:35:17.811677\n",
       "std     5060.658312  10984.091883  0 days 00:34:51.709204\n",
       "min        1.000000      2.000000         0 days 01:09:25\n",
       "25%     4041.000000   7505.000000         0 days 02:10:04\n",
       "50%     8080.000000  14151.500000         0 days 02:29:39\n",
       "75%    12118.750000  24092.750000         0 days 02:55:19\n",
       "max    99999.000000  60038.000000         0 days 06:26:37"
      ]
     },
     "execution_count": 51,
     "metadata": {},
     "output_type": "execute_result"
    }
   ],
   "source": [
    "half_no_zeros.describe()"
   ]
  },
  {
   "cell_type": "code",
   "execution_count": 52,
   "metadata": {},
   "outputs": [
    {
     "data": {
      "text/html": [
       "<div>\n",
       "<style scoped>\n",
       "    .dataframe tbody tr th:only-of-type {\n",
       "        vertical-align: middle;\n",
       "    }\n",
       "\n",
       "    .dataframe tbody tr th {\n",
       "        vertical-align: top;\n",
       "    }\n",
       "\n",
       "    .dataframe thead th {\n",
       "        text-align: right;\n",
       "    }\n",
       "</style>\n",
       "<table border=\"1\" class=\"dataframe\">\n",
       "  <thead>\n",
       "    <tr style=\"text-align: right;\">\n",
       "      <th></th>\n",
       "      <th>Overall</th>\n",
       "      <th>Bib</th>\n",
       "      <th>Time</th>\n",
       "    </tr>\n",
       "  </thead>\n",
       "  <tbody>\n",
       "    <tr>\n",
       "      <th>count</th>\n",
       "      <td>9705.000000</td>\n",
       "      <td>9705.000000</td>\n",
       "      <td>9705</td>\n",
       "    </tr>\n",
       "    <tr>\n",
       "      <th>mean</th>\n",
       "      <td>2800.848429</td>\n",
       "      <td>21933.816692</td>\n",
       "      <td>0 days 04:48:27.211334</td>\n",
       "    </tr>\n",
       "    <tr>\n",
       "      <th>std</th>\n",
       "      <td>12405.240315</td>\n",
       "      <td>10573.284349</td>\n",
       "      <td>0 days 00:45:46.974559</td>\n",
       "    </tr>\n",
       "    <tr>\n",
       "      <th>min</th>\n",
       "      <td>1.000000</td>\n",
       "      <td>1.000000</td>\n",
       "      <td>0 days 01:26:11</td>\n",
       "    </tr>\n",
       "    <tr>\n",
       "      <th>25%</th>\n",
       "      <td>608.000000</td>\n",
       "      <td>12134.000000</td>\n",
       "      <td>0 days 04:15:30</td>\n",
       "    </tr>\n",
       "    <tr>\n",
       "      <th>50%</th>\n",
       "      <td>1214.000000</td>\n",
       "      <td>26059.000000</td>\n",
       "      <td>0 days 04:49:04</td>\n",
       "    </tr>\n",
       "    <tr>\n",
       "      <th>75%</th>\n",
       "      <td>1821.000000</td>\n",
       "      <td>31295.000000</td>\n",
       "      <td>0 days 05:22:04</td>\n",
       "    </tr>\n",
       "    <tr>\n",
       "      <th>max</th>\n",
       "      <td>99999.000000</td>\n",
       "      <td>60042.000000</td>\n",
       "      <td>0 days 07:00:00</td>\n",
       "    </tr>\n",
       "  </tbody>\n",
       "</table>\n",
       "</div>"
      ],
      "text/plain": [
       "            Overall           Bib                    Time\n",
       "count   9705.000000   9705.000000                    9705\n",
       "mean    2800.848429  21933.816692  0 days 04:48:27.211334\n",
       "std    12405.240315  10573.284349  0 days 00:45:46.974559\n",
       "min        1.000000      1.000000         0 days 01:26:11\n",
       "25%      608.000000  12134.000000         0 days 04:15:30\n",
       "50%     1214.000000  26059.000000         0 days 04:49:04\n",
       "75%     1821.000000  31295.000000         0 days 05:22:04\n",
       "max    99999.000000  60042.000000         0 days 07:00:00"
      ]
     },
     "execution_count": 52,
     "metadata": {},
     "output_type": "execute_result"
    }
   ],
   "source": [
    "full_no_zeros.describe()"
   ]
  },
  {
   "cell_type": "code",
   "execution_count": null,
   "metadata": {},
   "outputs": [],
   "source": []
  }
 ],
 "metadata": {
  "kernelspec": {
   "display_name": "Python 3",
   "language": "python",
   "name": "python3"
  },
  "language_info": {
   "codemirror_mode": {
    "name": "ipython",
    "version": 3
   },
   "file_extension": ".py",
   "mimetype": "text/x-python",
   "name": "python",
   "nbconvert_exporter": "python",
   "pygments_lexer": "ipython3",
   "version": "3.8.5"
  }
 },
 "nbformat": 4,
 "nbformat_minor": 4
}
